{
  "nbformat": 4,
  "nbformat_minor": 0,
  "metadata": {
    "kernelspec": {
      "display_name": "Python 3",
      "language": "python",
      "name": "python3"
    },
    "language_info": {
      "codemirror_mode": {
        "name": "ipython",
        "version": 3
      },
      "file_extension": ".py",
      "mimetype": "text/x-python",
      "name": "python",
      "nbconvert_exporter": "python",
      "pygments_lexer": "ipython3",
      "version": "3.7.7"
    },
    "toc": {
      "base_numbering": 1,
      "nav_menu": {},
      "number_sections": true,
      "sideBar": false,
      "skip_h1_title": false,
      "title_cell": "Table of Contents",
      "title_sidebar": "Contents",
      "toc_cell": false,
      "toc_position": {},
      "toc_section_display": true,
      "toc_window_display": false
    },
    "colab": {
      "name": "classification_neural_net.ipynb",
      "provenance": []
    },
    "widgets": {
      "application/vnd.jupyter.widget-state+json": {
        "b233b480d92f4bab8bbc275223ce3b29": {
          "model_module": "@jupyter-widgets/controls",
          "model_name": "VBoxModel",
          "model_module_version": "1.5.0",
          "state": {
            "_view_name": "VBoxView",
            "_dom_classes": [
              "widget-interact"
            ],
            "_model_name": "VBoxModel",
            "_view_module": "@jupyter-widgets/controls",
            "_model_module_version": "1.5.0",
            "_view_count": null,
            "_view_module_version": "1.5.0",
            "box_style": "",
            "layout": "IPY_MODEL_2c3564f0a6d54fb89da380d6b8f75b95",
            "_model_module": "@jupyter-widgets/controls",
            "children": [
              "IPY_MODEL_8b7723e1c2334f79807142821a5468c3",
              "IPY_MODEL_4ccde433dac744189762a22d600cfe93"
            ]
          }
        },
        "2c3564f0a6d54fb89da380d6b8f75b95": {
          "model_module": "@jupyter-widgets/base",
          "model_name": "LayoutModel",
          "model_module_version": "1.2.0",
          "state": {
            "_view_name": "LayoutView",
            "grid_template_rows": null,
            "right": null,
            "justify_content": null,
            "_view_module": "@jupyter-widgets/base",
            "overflow": null,
            "_model_module_version": "1.2.0",
            "_view_count": null,
            "flex_flow": null,
            "width": null,
            "min_width": null,
            "border": null,
            "align_items": null,
            "bottom": null,
            "_model_module": "@jupyter-widgets/base",
            "top": null,
            "grid_column": null,
            "overflow_y": null,
            "overflow_x": null,
            "grid_auto_flow": null,
            "grid_area": null,
            "grid_template_columns": null,
            "flex": null,
            "_model_name": "LayoutModel",
            "justify_items": null,
            "grid_row": null,
            "max_height": null,
            "align_content": null,
            "visibility": null,
            "align_self": null,
            "height": null,
            "min_height": null,
            "padding": null,
            "grid_auto_rows": null,
            "grid_gap": null,
            "max_width": null,
            "order": null,
            "_view_module_version": "1.2.0",
            "grid_template_areas": null,
            "object_position": null,
            "object_fit": null,
            "grid_auto_columns": null,
            "margin": null,
            "display": null,
            "left": null
          }
        },
        "8b7723e1c2334f79807142821a5468c3": {
          "model_module": "@jupyter-widgets/controls",
          "model_name": "IntSliderModel",
          "model_module_version": "1.5.0",
          "state": {
            "_view_name": "IntSliderView",
            "style": "IPY_MODEL_30d90b1234e54450b3c862ed22776542",
            "_dom_classes": [],
            "description": "sample",
            "step": 1,
            "_model_name": "IntSliderModel",
            "orientation": "horizontal",
            "max": 19,
            "_view_module": "@jupyter-widgets/controls",
            "_model_module_version": "1.5.0",
            "value": 17,
            "_view_count": null,
            "disabled": false,
            "_view_module_version": "1.5.0",
            "min": 0,
            "continuous_update": true,
            "readout_format": "d",
            "description_tooltip": null,
            "readout": true,
            "_model_module": "@jupyter-widgets/controls",
            "layout": "IPY_MODEL_adb0b7231a314f43b21a822ae8ab0c72"
          }
        },
        "4ccde433dac744189762a22d600cfe93": {
          "model_module": "@jupyter-widgets/output",
          "model_name": "OutputModel",
          "model_module_version": "1.0.0",
          "state": {
            "_view_name": "OutputView",
            "msg_id": "",
            "_dom_classes": [],
            "_model_name": "OutputModel",
            "outputs": [
              {
                "output_type": "display_data",
                "data": {
                  "image/png": "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\n",
                  "text/plain": "<Figure size 432x288 with 1 Axes>"
                },
                "metadata": {
                  "needs_background": "light"
                }
              }
            ],
            "_view_module": "@jupyter-widgets/output",
            "_model_module_version": "1.0.0",
            "_view_count": null,
            "_view_module_version": "1.0.0",
            "layout": "IPY_MODEL_9761c818e1c646f68c7c9159a287b341",
            "_model_module": "@jupyter-widgets/output"
          }
        },
        "30d90b1234e54450b3c862ed22776542": {
          "model_module": "@jupyter-widgets/controls",
          "model_name": "SliderStyleModel",
          "model_module_version": "1.5.0",
          "state": {
            "_view_name": "StyleView",
            "handle_color": null,
            "_model_name": "SliderStyleModel",
            "description_width": "",
            "_view_module": "@jupyter-widgets/base",
            "_model_module_version": "1.5.0",
            "_view_count": null,
            "_view_module_version": "1.2.0",
            "_model_module": "@jupyter-widgets/controls"
          }
        },
        "adb0b7231a314f43b21a822ae8ab0c72": {
          "model_module": "@jupyter-widgets/base",
          "model_name": "LayoutModel",
          "model_module_version": "1.2.0",
          "state": {
            "_view_name": "LayoutView",
            "grid_template_rows": null,
            "right": null,
            "justify_content": null,
            "_view_module": "@jupyter-widgets/base",
            "overflow": null,
            "_model_module_version": "1.2.0",
            "_view_count": null,
            "flex_flow": null,
            "width": null,
            "min_width": null,
            "border": null,
            "align_items": null,
            "bottom": null,
            "_model_module": "@jupyter-widgets/base",
            "top": null,
            "grid_column": null,
            "overflow_y": null,
            "overflow_x": null,
            "grid_auto_flow": null,
            "grid_area": null,
            "grid_template_columns": null,
            "flex": null,
            "_model_name": "LayoutModel",
            "justify_items": null,
            "grid_row": null,
            "max_height": null,
            "align_content": null,
            "visibility": null,
            "align_self": null,
            "height": null,
            "min_height": null,
            "padding": null,
            "grid_auto_rows": null,
            "grid_gap": null,
            "max_width": null,
            "order": null,
            "_view_module_version": "1.2.0",
            "grid_template_areas": null,
            "object_position": null,
            "object_fit": null,
            "grid_auto_columns": null,
            "margin": null,
            "display": null,
            "left": null
          }
        },
        "9761c818e1c646f68c7c9159a287b341": {
          "model_module": "@jupyter-widgets/base",
          "model_name": "LayoutModel",
          "model_module_version": "1.2.0",
          "state": {
            "_view_name": "LayoutView",
            "grid_template_rows": null,
            "right": null,
            "justify_content": null,
            "_view_module": "@jupyter-widgets/base",
            "overflow": null,
            "_model_module_version": "1.2.0",
            "_view_count": null,
            "flex_flow": null,
            "width": null,
            "min_width": null,
            "border": null,
            "align_items": null,
            "bottom": null,
            "_model_module": "@jupyter-widgets/base",
            "top": null,
            "grid_column": null,
            "overflow_y": null,
            "overflow_x": null,
            "grid_auto_flow": null,
            "grid_area": null,
            "grid_template_columns": null,
            "flex": null,
            "_model_name": "LayoutModel",
            "justify_items": null,
            "grid_row": null,
            "max_height": null,
            "align_content": null,
            "visibility": null,
            "align_self": null,
            "height": null,
            "min_height": null,
            "padding": null,
            "grid_auto_rows": null,
            "grid_gap": null,
            "max_width": null,
            "order": null,
            "_view_module_version": "1.2.0",
            "grid_template_areas": null,
            "object_position": null,
            "object_fit": null,
            "grid_auto_columns": null,
            "margin": null,
            "display": null,
            "left": null
          }
        },
        "5fae2a3b246746fea7bdb608cf579d8c": {
          "model_module": "@jupyter-widgets/controls",
          "model_name": "VBoxModel",
          "model_module_version": "1.5.0",
          "state": {
            "_view_name": "VBoxView",
            "_dom_classes": [
              "widget-interact"
            ],
            "_model_name": "VBoxModel",
            "_view_module": "@jupyter-widgets/controls",
            "_model_module_version": "1.5.0",
            "_view_count": null,
            "_view_module_version": "1.5.0",
            "box_style": "",
            "layout": "IPY_MODEL_ab6ec9ba1ae24af29efb982cf3b1963d",
            "_model_module": "@jupyter-widgets/controls",
            "children": [
              "IPY_MODEL_edc0704fc4cc4799a88da6cd8a090f31",
              "IPY_MODEL_7f9a27cdcd444071b4b8b8cb68aca25f",
              "IPY_MODEL_70ccfd53277c4b2caea46456ab4ecb40"
            ]
          }
        },
        "ab6ec9ba1ae24af29efb982cf3b1963d": {
          "model_module": "@jupyter-widgets/base",
          "model_name": "LayoutModel",
          "model_module_version": "1.2.0",
          "state": {
            "_view_name": "LayoutView",
            "grid_template_rows": null,
            "right": null,
            "justify_content": null,
            "_view_module": "@jupyter-widgets/base",
            "overflow": null,
            "_model_module_version": "1.2.0",
            "_view_count": null,
            "flex_flow": null,
            "width": null,
            "min_width": null,
            "border": null,
            "align_items": null,
            "bottom": null,
            "_model_module": "@jupyter-widgets/base",
            "top": null,
            "grid_column": null,
            "overflow_y": null,
            "overflow_x": null,
            "grid_auto_flow": null,
            "grid_area": null,
            "grid_template_columns": null,
            "flex": null,
            "_model_name": "LayoutModel",
            "justify_items": null,
            "grid_row": null,
            "max_height": null,
            "align_content": null,
            "visibility": null,
            "align_self": null,
            "height": null,
            "min_height": null,
            "padding": null,
            "grid_auto_rows": null,
            "grid_gap": null,
            "max_width": null,
            "order": null,
            "_view_module_version": "1.2.0",
            "grid_template_areas": null,
            "object_position": null,
            "object_fit": null,
            "grid_auto_columns": null,
            "margin": null,
            "display": null,
            "left": null
          }
        },
        "edc0704fc4cc4799a88da6cd8a090f31": {
          "model_module": "@jupyter-widgets/controls",
          "model_name": "IntSliderModel",
          "model_module_version": "1.5.0",
          "state": {
            "_view_name": "IntSliderView",
            "style": "IPY_MODEL_dd7fbe25394d41668651c3c23c43bf64",
            "_dom_classes": [],
            "description": "sample",
            "step": 1,
            "_model_name": "IntSliderModel",
            "orientation": "horizontal",
            "max": 19,
            "_view_module": "@jupyter-widgets/controls",
            "_model_module_version": "1.5.0",
            "value": 9,
            "_view_count": null,
            "disabled": false,
            "_view_module_version": "1.5.0",
            "min": 0,
            "continuous_update": true,
            "readout_format": "d",
            "description_tooltip": null,
            "readout": true,
            "_model_module": "@jupyter-widgets/controls",
            "layout": "IPY_MODEL_30a6e445f1fe42c9b44cf5aeeb4f79f5"
          }
        },
        "7f9a27cdcd444071b4b8b8cb68aca25f": {
          "model_module": "@jupyter-widgets/controls",
          "model_name": "DropdownModel",
          "model_module_version": "1.5.0",
          "state": {
            "_options_labels": [
              "1.0",
              "0.1",
              "0.01",
              "0.001"
            ],
            "_view_name": "DropdownView",
            "style": "IPY_MODEL_5da5e01097f8459ea48fb0e7e6e0e762",
            "_dom_classes": [],
            "description": "alpha",
            "_model_name": "DropdownModel",
            "index": 2,
            "_view_module": "@jupyter-widgets/controls",
            "_model_module_version": "1.5.0",
            "_view_count": null,
            "disabled": false,
            "_view_module_version": "1.5.0",
            "description_tooltip": null,
            "_model_module": "@jupyter-widgets/controls",
            "layout": "IPY_MODEL_f7bba01896824b4e9ab1645b18e7660f"
          }
        },
        "70ccfd53277c4b2caea46456ab4ecb40": {
          "model_module": "@jupyter-widgets/output",
          "model_name": "OutputModel",
          "model_module_version": "1.0.0",
          "state": {
            "_view_name": "OutputView",
            "msg_id": "",
            "_dom_classes": [],
            "_model_name": "OutputModel",
            "outputs": [
              {
                "output_type": "display_data",
                "data": {
                  "image/png": "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\n",
                  "text/plain": "<Figure size 432x288 with 1 Axes>"
                },
                "metadata": {
                  "needs_background": "light"
                }
              },
              {
                "output_type": "display_data",
                "data": {
                  "image/png": "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\n",
                  "text/plain": "<Figure size 432x288 with 1 Axes>"
                },
                "metadata": {
                  "needs_background": "light"
                }
              }
            ],
            "_view_module": "@jupyter-widgets/output",
            "_model_module_version": "1.0.0",
            "_view_count": null,
            "_view_module_version": "1.0.0",
            "layout": "IPY_MODEL_d01946329ebc4f4b8240ba01fabece28",
            "_model_module": "@jupyter-widgets/output"
          }
        },
        "dd7fbe25394d41668651c3c23c43bf64": {
          "model_module": "@jupyter-widgets/controls",
          "model_name": "SliderStyleModel",
          "model_module_version": "1.5.0",
          "state": {
            "_view_name": "StyleView",
            "handle_color": null,
            "_model_name": "SliderStyleModel",
            "description_width": "",
            "_view_module": "@jupyter-widgets/base",
            "_model_module_version": "1.5.0",
            "_view_count": null,
            "_view_module_version": "1.2.0",
            "_model_module": "@jupyter-widgets/controls"
          }
        },
        "30a6e445f1fe42c9b44cf5aeeb4f79f5": {
          "model_module": "@jupyter-widgets/base",
          "model_name": "LayoutModel",
          "model_module_version": "1.2.0",
          "state": {
            "_view_name": "LayoutView",
            "grid_template_rows": null,
            "right": null,
            "justify_content": null,
            "_view_module": "@jupyter-widgets/base",
            "overflow": null,
            "_model_module_version": "1.2.0",
            "_view_count": null,
            "flex_flow": null,
            "width": null,
            "min_width": null,
            "border": null,
            "align_items": null,
            "bottom": null,
            "_model_module": "@jupyter-widgets/base",
            "top": null,
            "grid_column": null,
            "overflow_y": null,
            "overflow_x": null,
            "grid_auto_flow": null,
            "grid_area": null,
            "grid_template_columns": null,
            "flex": null,
            "_model_name": "LayoutModel",
            "justify_items": null,
            "grid_row": null,
            "max_height": null,
            "align_content": null,
            "visibility": null,
            "align_self": null,
            "height": null,
            "min_height": null,
            "padding": null,
            "grid_auto_rows": null,
            "grid_gap": null,
            "max_width": null,
            "order": null,
            "_view_module_version": "1.2.0",
            "grid_template_areas": null,
            "object_position": null,
            "object_fit": null,
            "grid_auto_columns": null,
            "margin": null,
            "display": null,
            "left": null
          }
        },
        "5da5e01097f8459ea48fb0e7e6e0e762": {
          "model_module": "@jupyter-widgets/controls",
          "model_name": "DescriptionStyleModel",
          "model_module_version": "1.5.0",
          "state": {
            "_view_name": "StyleView",
            "_model_name": "DescriptionStyleModel",
            "description_width": "",
            "_view_module": "@jupyter-widgets/base",
            "_model_module_version": "1.5.0",
            "_view_count": null,
            "_view_module_version": "1.2.0",
            "_model_module": "@jupyter-widgets/controls"
          }
        },
        "f7bba01896824b4e9ab1645b18e7660f": {
          "model_module": "@jupyter-widgets/base",
          "model_name": "LayoutModel",
          "model_module_version": "1.2.0",
          "state": {
            "_view_name": "LayoutView",
            "grid_template_rows": null,
            "right": null,
            "justify_content": null,
            "_view_module": "@jupyter-widgets/base",
            "overflow": null,
            "_model_module_version": "1.2.0",
            "_view_count": null,
            "flex_flow": null,
            "width": null,
            "min_width": null,
            "border": null,
            "align_items": null,
            "bottom": null,
            "_model_module": "@jupyter-widgets/base",
            "top": null,
            "grid_column": null,
            "overflow_y": null,
            "overflow_x": null,
            "grid_auto_flow": null,
            "grid_area": null,
            "grid_template_columns": null,
            "flex": null,
            "_model_name": "LayoutModel",
            "justify_items": null,
            "grid_row": null,
            "max_height": null,
            "align_content": null,
            "visibility": null,
            "align_self": null,
            "height": null,
            "min_height": null,
            "padding": null,
            "grid_auto_rows": null,
            "grid_gap": null,
            "max_width": null,
            "order": null,
            "_view_module_version": "1.2.0",
            "grid_template_areas": null,
            "object_position": null,
            "object_fit": null,
            "grid_auto_columns": null,
            "margin": null,
            "display": null,
            "left": null
          }
        },
        "d01946329ebc4f4b8240ba01fabece28": {
          "model_module": "@jupyter-widgets/base",
          "model_name": "LayoutModel",
          "model_module_version": "1.2.0",
          "state": {
            "_view_name": "LayoutView",
            "grid_template_rows": null,
            "right": null,
            "justify_content": null,
            "_view_module": "@jupyter-widgets/base",
            "overflow": null,
            "_model_module_version": "1.2.0",
            "_view_count": null,
            "flex_flow": null,
            "width": null,
            "min_width": null,
            "border": null,
            "align_items": null,
            "bottom": null,
            "_model_module": "@jupyter-widgets/base",
            "top": null,
            "grid_column": null,
            "overflow_y": null,
            "overflow_x": null,
            "grid_auto_flow": null,
            "grid_area": null,
            "grid_template_columns": null,
            "flex": null,
            "_model_name": "LayoutModel",
            "justify_items": null,
            "grid_row": null,
            "max_height": null,
            "align_content": null,
            "visibility": null,
            "align_self": null,
            "height": null,
            "min_height": null,
            "padding": null,
            "grid_auto_rows": null,
            "grid_gap": null,
            "max_width": null,
            "order": null,
            "_view_module_version": "1.2.0",
            "grid_template_areas": null,
            "object_position": null,
            "object_fit": null,
            "grid_auto_columns": null,
            "margin": null,
            "display": null,
            "left": null
          }
        }
      }
    }
  },
  "cells": [
    {
      "cell_type": "markdown",
      "metadata": {
        "id": "9gYYttip6uh8"
      },
      "source": [
        "# 確率勾配法を用いた2層ネットワークの実装\n",
        "\n",
        "2次元データの2クラス分類問題を解く2層ネットワークを実装する．\n",
        "ここではサンプルを1つづつ用いる確率勾配法を実装する．\n",
        "\n",
        "# 準備"
      ]
    },
    {
      "cell_type": "code",
      "metadata": {
        "id": "biLiAPEc6uh9",
        "outputId": "38b7bcfb-943a-4d99-d153-d04d540eb336",
        "colab": {
          "base_uri": "https://localhost:8080/",
          "height": 82
        }
      },
      "source": [
        "# load modules\n",
        "\n",
        "import numpy as np\n",
        "\n",
        "import matplotlib\n",
        "import matplotlib.pyplot as plt\n",
        "from matplotlib.pyplot import imshow\n",
        "%matplotlib inline\n",
        "# plt.gray();\n",
        "plt.set_cmap(plt.cm.Paired);\n",
        "\n",
        "import sklearn\n",
        "from sklearn.datasets import make_blobs\n",
        "\n",
        "from ipywidgets import interact, interactive, fixed, RadioButtons\n",
        "import ipywidgets as widgets\n",
        "from IPython.display import display\n",
        "\n",
        "!pip install autograd\n",
        "import autograd.numpy as anp # autogradのnumpyの別名をanpにする\n",
        "from autograd import grad\n",
        "from autograd import jacobian, hessian"
      ],
      "execution_count": 1,
      "outputs": [
        {
          "output_type": "stream",
          "name": "stdout",
          "text": [
            "Requirement already satisfied: autograd in /usr/local/lib/python3.7/dist-packages (1.3)\n",
            "Requirement already satisfied: future>=0.15.2 in /usr/local/lib/python3.7/dist-packages (from autograd) (0.16.0)\n",
            "Requirement already satisfied: numpy>=1.12 in /usr/local/lib/python3.7/dist-packages (from autograd) (1.19.5)\n"
          ]
        },
        {
          "output_type": "display_data",
          "data": {
            "text/plain": [
              "<Figure size 432x288 with 0 Axes>"
            ]
          },
          "metadata": {}
        }
      ]
    },
    {
      "cell_type": "code",
      "metadata": {
        "id": "_lcPFH-16uh-",
        "outputId": "9b10a78b-539d-463c-ea69-ed6a086e8b9b",
        "colab": {
          "base_uri": "https://localhost:8080/"
        }
      },
      "source": [
        "# check versions\n",
        "\n",
        "print(\"sklearn version :\", sklearn.__version__, \" >= 0.18.0\")\n",
        "# print(\"skimage version :\", skimage.__version__, \" >= 0.12.0\")\n",
        "print(\"numpy version :\", np.__version__, \" >= 0.12.0\")\n",
        "print(\"matplotlib version:\", matplotlib.__version__, \">= 2.0.0\")"
      ],
      "execution_count": 2,
      "outputs": [
        {
          "output_type": "stream",
          "name": "stdout",
          "text": [
            "sklearn version : 0.22.2.post1  >= 0.18.0\n",
            "numpy version : 1.19.5  >= 0.12.0\n",
            "matplotlib version: 3.2.2 >= 2.0.0\n"
          ]
        }
      ]
    },
    {
      "cell_type": "markdown",
      "metadata": {
        "id": "0abLTkP96uh_"
      },
      "source": [
        "# データセットの準備\n",
        "\n",
        "sklearnのmake_blobで2次元データを準備する．\n",
        "返り値は，データXとラベルyである．ただし2クラスの場合，ラベルyは0,1で返ってくるため，-1と+1に変更しておく．"
      ]
    },
    {
      "cell_type": "code",
      "metadata": {
        "id": "W4i3usb46uh_",
        "outputId": "498cb5c3-dd21-45c3-893e-b10457478fd7",
        "colab": {
          "base_uri": "https://localhost:8080/",
          "height": 264
        }
      },
      "source": [
        "X, y = make_blobs(n_samples=20, # 20個生成\n",
        "                  n_features=2, # 2次元\n",
        "                  centers=2,    # クラスタ中心2個\n",
        "                  cluster_std = 2 # クラスタの大きさ（標準偏差）\n",
        "                 )\n",
        "y = (2*y - 1).astype(float) # 0,1 -> -1.0,+1.0\n",
        "\n",
        "# データの正規化\n",
        "X[:, 0] -= X[:, 0].mean()\n",
        "X[:, 1] -= X[:, 1].mean()\n",
        "X[:, 0] /= X[:, 0].std()\n",
        "X[:, 1] /= X[:, 1].std()\n",
        "\n",
        "X = np.hstack((X, np.ones((X.shape[0], 1)))) # 同次座標\n",
        "\n",
        "plt.scatter(X[:, 0], X[:, 1], c=y, s=50, edgecolors='k');\n",
        "plt.gca().set_aspect('equal');"
      ],
      "execution_count": 5,
      "outputs": [
        {
          "output_type": "display_data",
          "data": {
            "image/png": "[encoded data removed]",
            "text/plain": [
              "<Figure size 432x288 with 1 Axes>"
            ]
          },
          "metadata": {
            "needs_background": "light"
          }
        }
      ]
    },
    {
      "cell_type": "markdown",
      "metadata": {
        "id": "eS4fTGSt6uh_"
      },
      "source": [
        "識別境界を直線で描くヘルパー関数の準備．"
      ]
    },
    {
      "cell_type": "code",
      "metadata": {
        "id": "aCIyfqlZ6uiA"
      },
      "source": [
        "# 境界線を引く関数の定義\n",
        "\n",
        "def plotBoundary(X, net, w, mesh=True, boundary=True, n_neighbors=1):\n",
        "\n",
        "    # plot range\n",
        "    x_min = min(X[:,0])\n",
        "    x_max = max(X[:,0])\n",
        "    y_min = min(X[:,1])\n",
        "    y_max = max(X[:,1])\n",
        "\n",
        "    # visualizing decision function\n",
        "    XX, YY = np.mgrid[x_min:x_max:200j, y_min:y_max:200j] # make a grid\n",
        "    Z = np.zeros(XX.size)\n",
        "    for i,xi in enumerate(np.c_[XX.ravel(), YY.ravel(), np.ones(XX.size)]):\n",
        "        Z[i] = net(w, xi)\n",
        "\n",
        "    \n",
        "    Z = Z.reshape(XX.shape) # just reshape\n",
        "    Z = np.sign(Z) # -1 or +1\n",
        "\n",
        "    if mesh:\n",
        "        plt.pcolormesh(XX, YY, Z, zorder=-10) # paint in 2 colors, if Z > 0 or not\n",
        "\n",
        "    if boundary:\n",
        "        if Z.min() < 0.5 < Z.max():\n",
        "            plt.contour(XX, YY, Z, alpha=0.5,\n",
        "                        colors='k', linestyles='-', levels=[0])\n",
        "\n",
        "    plt.xlim(x_min, x_max)\n",
        "    plt.ylim(y_min, y_max)"
      ],
      "execution_count": 6,
      "outputs": []
    },
    {
      "cell_type": "markdown",
      "metadata": {
        "id": "0X1ynC8I6uiA"
      },
      "source": [
        "# 2層ネットワークの実装\n",
        "\n",
        "以下は，1層ネットワークとして，ヒンジ損失を用いるパーセプトロンと，ロジスティック損失を用いるロジスティック回帰の実装例である．"
      ]
    },
    {
      "cell_type": "code",
      "metadata": {
        "id": "z8IUJtAk6uiA"
      },
      "source": [
        "# 1層ネットワーク\n",
        "w = np.random.rand(3) - 0.5 # 次元＋1：同次座標\n",
        "\n",
        "def mynet(w, xi):\n",
        "    return anp.dot(xi, w)\n",
        "\n",
        "def loss(w, xi, yi):\n",
        "    h = yi * mynet(w, xi)\n",
        "#     return anp.maximum(-h, 0) # ヒンジ損失（パーセプトロン）\n",
        "    return anp.log(1 + anp.exp(-h)) # ロジスティック損失\n",
        "\n",
        "g_mynet = grad(loss) # wについての勾配"
      ],
      "execution_count": 7,
      "outputs": []
    },
    {
      "cell_type": "markdown",
      "metadata": {
        "id": "0F2q1FJQ6uiB"
      },
      "source": [
        "以下の2層ネットワークは，活性化関数をReLUやsigmoidなどにした例である． 第1層では入力の3次元を線形変換で6次元の中間層にして活性化関数を適用する．その後に，第2層では6次元を1次元にする．"
      ]
    },
    {
      "cell_type": "code",
      "metadata": {
        "id": "dME-XvkK6uiB"
      },
      "source": [
        "# 2層ネットワーク\n",
        "w1 = anp.random.rand(3,6).flatten() - 0.5\n",
        "w2 = anp.random.rand(6,1).flatten() - 0.5\n",
        "w = np.concatenate((w1, w2))\n",
        "\n",
        "def sig(a):\n",
        "    return 1 / (1 + anp.exp(-a))\n",
        "def ReLU(a):\n",
        "    return anp.maximum(a, 0)\n",
        "\n",
        "def mynet(w, xi):\n",
        "    return anp.dot(ReLU(anp.dot(xi, w[:18].reshape(3,6))), w[18:].reshape(6,1))\n",
        "\n",
        "def loss(w, xi, yi):\n",
        "    h = yi * mynet(w, xi)\n",
        "    return anp.log(1 + anp.exp(-h)) # ロジスティック損失\n",
        "\n",
        "g_mynet = grad(loss) # wについての勾配"
      ],
      "execution_count": 8,
      "outputs": []
    },
    {
      "cell_type": "markdown",
      "metadata": {
        "id": "2TDyLpZN6uiB"
      },
      "source": [
        "ネットワークの出力と勾配の出力を確かめる（デバッグ）．"
      ]
    },
    {
      "cell_type": "code",
      "metadata": {
        "id": "kqczsIYU6uiB",
        "outputId": "802c4baa-1a1f-4052-9645-d705c8072fb0",
        "colab": {
          "base_uri": "https://localhost:8080/"
        }
      },
      "source": [
        "xi = X[0]\n",
        "yi = y[0]\n",
        "print(mynet(w, xi))\n",
        "print(g_mynet(w, xi, yi))"
      ],
      "execution_count": 9,
      "outputs": [
        {
          "output_type": "stream",
          "name": "stdout",
          "text": [
            "[-0.09399103]\n",
            "[ 0.06226344  0.         -0.02164402  0.         -0.00592688  0.\n",
            " -0.01245393  0.          0.00432924  0.          0.00118549  0.\n",
            " -0.16983042  0.          0.05903645  0.          0.01616622  0.\n",
            "  0.20395332  0.          0.1729392   0.          0.19083841  0.        ]\n"
          ]
        }
      ]
    },
    {
      "cell_type": "markdown",
      "metadata": {
        "id": "tT5EBTOn6uiC"
      },
      "source": [
        "以下では，サンプルを先頭から順番に一つずつ用いて，SGDの更新則を適用する．\n",
        "サンプルは青と茶色のクラスに分かれている．識別境界を引いた後に，同じ色の領域に入っていれば正答，違う色の領域に入ってしまっていれば誤答である．"
      ]
    },
    {
      "cell_type": "code",
      "metadata": {
        "id": "mPQwBd9i6uiC",
        "outputId": "08576565-534c-41f3-baac-cc92a075cba1",
        "colab": {
          "base_uri": "https://localhost:8080/",
          "height": 296,
          "referenced_widgets": [
            "b233b480d92f4bab8bbc275223ce3b29",
            "2c3564f0a6d54fb89da380d6b8f75b95",
            "8b7723e1c2334f79807142821a5468c3",
            "4ccde433dac744189762a22d600cfe93",
            "30d90b1234e54450b3c862ed22776542",
            "adb0b7231a314f43b21a822ae8ab0c72",
            "9761c818e1c646f68c7c9159a287b341"
          ]
        }
      },
      "source": [
        "val_start = 0 # スライドバーの最小値\n",
        "val_end   = len(y)-1 # スライドバーの最大値\n",
        "val_step  = 1 # スライドバーはこの値ずつ増える\n",
        "val_default = 0 # スライドバーの初期値\n",
        "\n",
        "\n",
        "@interact(sample=(val_start, val_end, val_step)) # この行が関数の直前に必要\n",
        "def g(sample=val_default): # この関数を毎回呼び出す    \n",
        "    \n",
        "    global w\n",
        "    \n",
        "    if sample > len(y)-1:\n",
        "        return\n",
        "\n",
        "    plt.scatter(X[:, 0], X[:, 1], marker='o', s=50, c=y, edgecolors='k')\n",
        "    plt.scatter(X[sample, 0], X[sample, 1], marker='o', s=90, facecolors='none',  edgecolors='k')\n",
        "   \n",
        "    plotBoundary(X, mynet, w)\n",
        "    \n",
        "    xi = X[sample]\n",
        "    yi = y[sample]\n",
        "\n",
        "   \n",
        "    plt.gca().set_aspect('equal');\n",
        "    plt.show()\n",
        "\n",
        "    # 更新則\n",
        "    alpha = 0.01\n",
        "    w = w - alpha * g_mynet(w, xi, yi)\n",
        "\n",
        "    "
      ],
      "execution_count": 10,
      "outputs": [
        {
          "output_type": "display_data",
          "data": {
            "application/vnd.jupyter.widget-view+json": {
              "model_id": "b233b480d92f4bab8bbc275223ce3b29",
              "version_minor": 0,
              "version_major": 2
            },
            "text/plain": [
              "interactive(children=(IntSlider(value=0, description='sample', max=19), Output()), _dom_classes=('widget-inter…"
            ]
          },
          "metadata": {}
        }
      ]
    },
    {
      "cell_type": "markdown",
      "metadata": {
        "id": "RYrrHQUM6uiC"
      },
      "source": [
        "# Task\n",
        "\n",
        "- 上記の2層ネットワークを改変して，3層ネットワークを実装せよ．\n",
        "- 中間層の次元を変えて，収束を議論せよ．"
      ]
    },
    {
      "cell_type": "code",
      "metadata": {
        "id": "WUdEvvds6uiD"
      },
      "source": [
        ""
      ],
      "execution_count": null,
      "outputs": []
    },
    {
      "cell_type": "markdown",
      "metadata": {
        "id": "VIQkEHQX6uiD"
      },
      "source": [
        "# 損失関数の可視化と学習率の変更"
      ]
    },
    {
      "cell_type": "code",
      "metadata": {
        "scrolled": false,
        "id": "-tCs01bZ6uiD",
        "outputId": "ca14dc79-84ef-4a2e-818f-8846b56dcab7",
        "colab": {
          "base_uri": "https://localhost:8080/",
          "height": 590,
          "referenced_widgets": [
            "5fae2a3b246746fea7bdb608cf579d8c",
            "ab6ec9ba1ae24af29efb982cf3b1963d",
            "edc0704fc4cc4799a88da6cd8a090f31",
            "7f9a27cdcd444071b4b8b8cb68aca25f",
            "70ccfd53277c4b2caea46456ab4ecb40",
            "dd7fbe25394d41668651c3c23c43bf64",
            "30a6e445f1fe42c9b44cf5aeeb4f79f5",
            "5da5e01097f8459ea48fb0e7e6e0e762",
            "f7bba01896824b4e9ab1645b18e7660f",
            "d01946329ebc4f4b8240ba01fabece28"
          ]
        }
      },
      "source": [
        "val_start = 0 # スライドバーの最小値\n",
        "val_end   = len(y)-1 # スライドバーの最大値\n",
        "val_step  = 1 # スライドバーはこの値ずつ増える\n",
        "val_default = 0 # スライドバーの初期値\n",
        "\n",
        "loss_val = []\n",
        "\n",
        "@interact(sample=(val_start, val_end, val_step), alpha=[1.0, 0.1, 0.01, 0.001]) # この行が関数の直前に必要\n",
        "def g(sample=val_default, alpha=0.01): # この関数を毎回呼び出す    \n",
        "  \n",
        "    global w\n",
        "    \n",
        "    if sample > len(y)-1:\n",
        "        return\n",
        "\n",
        "    plt.scatter(X[:, 0], X[:, 1], marker='o', s=50, c=y, edgecolors='k')\n",
        "    plt.scatter(X[sample, 0], X[sample, 1], marker='o', s=90, facecolors='none',  edgecolors='k')\n",
        "   \n",
        "    plotBoundary(X, mynet, w)\n",
        "    \n",
        "    xi = X[sample]\n",
        "    yi = y[sample]\n",
        "\n",
        "   \n",
        "    plt.gca().set_aspect('equal');\n",
        "    plt.show()\n",
        "\n",
        "    loss_val.append(sum([loss(w, xi, yi) for xi,yi in zip(X,y)])) # loss for all samples\n",
        "    plt.plot(loss_val)\n",
        "    plt.ylabel('loss')\n",
        "    plt.xlabel('iterations')\n",
        "    plt.show()\n",
        "\n",
        "    # 更新則\n",
        "    w = w - alpha * g_mynet(w, xi, yi)\n",
        "\n",
        "    "
      ],
      "execution_count": 11,
      "outputs": [
        {
          "output_type": "display_data",
          "data": {
            "application/vnd.jupyter.widget-view+json": {
              "model_id": "5fae2a3b246746fea7bdb608cf579d8c",
              "version_minor": 0,
              "version_major": 2
            },
            "text/plain": [
              "interactive(children=(IntSlider(value=0, description='sample', max=19), Dropdown(description='alpha', index=2,…"
            ]
          },
          "metadata": {}
        }
      ]
    },
    {
      "cell_type": "code",
      "metadata": {
        "id": "TM1ACVih6uiE"
      },
      "source": [
        ""
      ],
      "execution_count": null,
      "outputs": []
    },
    {
      "cell_type": "code",
      "metadata": {
        "id": "XCl3mGYm6uiE"
      },
      "source": [
        ""
      ],
      "execution_count": null,
      "outputs": []
    },
    {
      "cell_type": "code",
      "metadata": {
        "id": "v61Tx6vg6uiE"
      },
      "source": [
        ""
      ],
      "execution_count": null,
      "outputs": []
    },
    {
      "cell_type": "code",
      "metadata": {
        "id": "HFv0fhB46uiE"
      },
      "source": [
        ""
      ],
      "execution_count": null,
      "outputs": []
    },
    {
      "cell_type": "code",
      "metadata": {
        "id": "bMNrt1T26uiE"
      },
      "source": [
        ""
      ],
      "execution_count": null,
      "outputs": []
    }
  ]
}