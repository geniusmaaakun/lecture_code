{
  "nbformat": 4,
  "nbformat_minor": 0,
  "metadata": {
    "kernelspec": {
      "display_name": "Python 3",
      "language": "python",
      "name": "python3"
    },
    "language_info": {
      "codemirror_mode": {
        "name": "ipython",
        "version": 3
      },
      "file_extension": ".py",
      "mimetype": "text/x-python",
      "name": "python",
      "nbconvert_exporter": "python",
      "pygments_lexer": "ipython3",
      "version": "3.7.7"
    },
    "toc": {
      "base_numbering": 1,
      "nav_menu": {},
      "number_sections": true,
      "sideBar": false,
      "skip_h1_title": false,
      "title_cell": "Table of Contents",
      "title_sidebar": "Contents",
      "toc_cell": false,
      "toc_position": {},
      "toc_section_display": true,
      "toc_window_display": false
    },
    "colab": {
      "name": "classification_neural_net_multiclass.ipynb",
      "provenance": [],
      "collapsed_sections": []
    },
    "widgets": {
      "application/vnd.jupyter.widget-state+json": {
        "88f2e55e4b504e66a825c92ddab977b8": {
          "model_module": "@jupyter-widgets/controls",
          "model_name": "VBoxModel",
          "model_module_version": "1.5.0",
          "state": {
            "_view_name": "VBoxView",
            "_dom_classes": [
              "widget-interact"
            ],
            "_model_name": "VBoxModel",
            "_view_module": "@jupyter-widgets/controls",
            "_model_module_version": "1.5.0",
            "_view_count": null,
            "_view_module_version": "1.5.0",
            "box_style": "",
            "layout": "IPY_MODEL_e4b653cd114245fa94297f369af81c8a",
            "_model_module": "@jupyter-widgets/controls",
            "children": [
              "IPY_MODEL_486dfd80940548f6a749aef72c750042",
              "IPY_MODEL_9f5569102a614c279aa5be2d9a9a0aa3"
            ]
          }
        },
        "e4b653cd114245fa94297f369af81c8a": {
          "model_module": "@jupyter-widgets/base",
          "model_name": "LayoutModel",
          "model_module_version": "1.2.0",
          "state": {
            "_view_name": "LayoutView",
            "grid_template_rows": null,
            "right": null,
            "justify_content": null,
            "_view_module": "@jupyter-widgets/base",
            "overflow": null,
            "_model_module_version": "1.2.0",
            "_view_count": null,
            "flex_flow": null,
            "width": null,
            "min_width": null,
            "border": null,
            "align_items": null,
            "bottom": null,
            "_model_module": "@jupyter-widgets/base",
            "top": null,
            "grid_column": null,
            "overflow_y": null,
            "overflow_x": null,
            "grid_auto_flow": null,
            "grid_area": null,
            "grid_template_columns": null,
            "flex": null,
            "_model_name": "LayoutModel",
            "justify_items": null,
            "grid_row": null,
            "max_height": null,
            "align_content": null,
            "visibility": null,
            "align_self": null,
            "height": null,
            "min_height": null,
            "padding": null,
            "grid_auto_rows": null,
            "grid_gap": null,
            "max_width": null,
            "order": null,
            "_view_module_version": "1.2.0",
            "grid_template_areas": null,
            "object_position": null,
            "object_fit": null,
            "grid_auto_columns": null,
            "margin": null,
            "display": null,
            "left": null
          }
        },
        "486dfd80940548f6a749aef72c750042": {
          "model_module": "@jupyter-widgets/controls",
          "model_name": "IntSliderModel",
          "model_module_version": "1.5.0",
          "state": {
            "_view_name": "IntSliderView",
            "style": "IPY_MODEL_2ce2cce465c44a1ca1ef2f21741e0632",
            "_dom_classes": [],
            "description": "sample",
            "step": 1,
            "_model_name": "IntSliderModel",
            "orientation": "horizontal",
            "max": 19,
            "_view_module": "@jupyter-widgets/controls",
            "_model_module_version": "1.5.0",
            "value": 0,
            "_view_count": null,
            "disabled": false,
            "_view_module_version": "1.5.0",
            "min": 0,
            "continuous_update": true,
            "readout_format": "d",
            "description_tooltip": null,
            "readout": true,
            "_model_module": "@jupyter-widgets/controls",
            "layout": "IPY_MODEL_6b07408ff35d46638cce772db12dbe0b"
          }
        },
        "9f5569102a614c279aa5be2d9a9a0aa3": {
          "model_module": "@jupyter-widgets/output",
          "model_name": "OutputModel",
          "model_module_version": "1.0.0",
          "state": {
            "_view_name": "OutputView",
            "msg_id": "",
            "_dom_classes": [],
            "_model_name": "OutputModel",
            "outputs": [
              {
                "output_type": "display_data",
                "data": {
                  "image/png": "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\n",
                  "text/plain": "<Figure size 432x288 with 1 Axes>"
                },
                "metadata": {
                  "needs_background": "light"
                }
              }
            ],
            "_view_module": "@jupyter-widgets/output",
            "_model_module_version": "1.0.0",
            "_view_count": null,
            "_view_module_version": "1.0.0",
            "layout": "IPY_MODEL_d7965d2909434a45903fc7d933b7eaae",
            "_model_module": "@jupyter-widgets/output"
          }
        },
        "2ce2cce465c44a1ca1ef2f21741e0632": {
          "model_module": "@jupyter-widgets/controls",
          "model_name": "SliderStyleModel",
          "model_module_version": "1.5.0",
          "state": {
            "_view_name": "StyleView",
            "handle_color": null,
            "_model_name": "SliderStyleModel",
            "description_width": "",
            "_view_module": "@jupyter-widgets/base",
            "_model_module_version": "1.5.0",
            "_view_count": null,
            "_view_module_version": "1.2.0",
            "_model_module": "@jupyter-widgets/controls"
          }
        },
        "6b07408ff35d46638cce772db12dbe0b": {
          "model_module": "@jupyter-widgets/base",
          "model_name": "LayoutModel",
          "model_module_version": "1.2.0",
          "state": {
            "_view_name": "LayoutView",
            "grid_template_rows": null,
            "right": null,
            "justify_content": null,
            "_view_module": "@jupyter-widgets/base",
            "overflow": null,
            "_model_module_version": "1.2.0",
            "_view_count": null,
            "flex_flow": null,
            "width": null,
            "min_width": null,
            "border": null,
            "align_items": null,
            "bottom": null,
            "_model_module": "@jupyter-widgets/base",
            "top": null,
            "grid_column": null,
            "overflow_y": null,
            "overflow_x": null,
            "grid_auto_flow": null,
            "grid_area": null,
            "grid_template_columns": null,
            "flex": null,
            "_model_name": "LayoutModel",
            "justify_items": null,
            "grid_row": null,
            "max_height": null,
            "align_content": null,
            "visibility": null,
            "align_self": null,
            "height": null,
            "min_height": null,
            "padding": null,
            "grid_auto_rows": null,
            "grid_gap": null,
            "max_width": null,
            "order": null,
            "_view_module_version": "1.2.0",
            "grid_template_areas": null,
            "object_position": null,
            "object_fit": null,
            "grid_auto_columns": null,
            "margin": null,
            "display": null,
            "left": null
          }
        },
        "d7965d2909434a45903fc7d933b7eaae": {
          "model_module": "@jupyter-widgets/base",
          "model_name": "LayoutModel",
          "model_module_version": "1.2.0",
          "state": {
            "_view_name": "LayoutView",
            "grid_template_rows": null,
            "right": null,
            "justify_content": null,
            "_view_module": "@jupyter-widgets/base",
            "overflow": null,
            "_model_module_version": "1.2.0",
            "_view_count": null,
            "flex_flow": null,
            "width": null,
            "min_width": null,
            "border": null,
            "align_items": null,
            "bottom": null,
            "_model_module": "@jupyter-widgets/base",
            "top": null,
            "grid_column": null,
            "overflow_y": null,
            "overflow_x": null,
            "grid_auto_flow": null,
            "grid_area": null,
            "grid_template_columns": null,
            "flex": null,
            "_model_name": "LayoutModel",
            "justify_items": null,
            "grid_row": null,
            "max_height": null,
            "align_content": null,
            "visibility": null,
            "align_self": null,
            "height": null,
            "min_height": null,
            "padding": null,
            "grid_auto_rows": null,
            "grid_gap": null,
            "max_width": null,
            "order": null,
            "_view_module_version": "1.2.0",
            "grid_template_areas": null,
            "object_position": null,
            "object_fit": null,
            "grid_auto_columns": null,
            "margin": null,
            "display": null,
            "left": null
          }
        },
        "a6b6a597205a41738172c2de2c424b1e": {
          "model_module": "@jupyter-widgets/controls",
          "model_name": "VBoxModel",
          "model_module_version": "1.5.0",
          "state": {
            "_view_name": "VBoxView",
            "_dom_classes": [
              "widget-interact"
            ],
            "_model_name": "VBoxModel",
            "_view_module": "@jupyter-widgets/controls",
            "_model_module_version": "1.5.0",
            "_view_count": null,
            "_view_module_version": "1.5.0",
            "box_style": "",
            "layout": "IPY_MODEL_821038934e0e416a9c854b09e8d124a7",
            "_model_module": "@jupyter-widgets/controls",
            "children": [
              "IPY_MODEL_50f7d66e3b9f463787c23a02339dccb2",
              "IPY_MODEL_9c7d34ad41044e07af8b22429d704f3e",
              "IPY_MODEL_79f3055d7eb342b9a7536a8d903faf4e"
            ]
          }
        },
        "821038934e0e416a9c854b09e8d124a7": {
          "model_module": "@jupyter-widgets/base",
          "model_name": "LayoutModel",
          "model_module_version": "1.2.0",
          "state": {
            "_view_name": "LayoutView",
            "grid_template_rows": null,
            "right": null,
            "justify_content": null,
            "_view_module": "@jupyter-widgets/base",
            "overflow": null,
            "_model_module_version": "1.2.0",
            "_view_count": null,
            "flex_flow": null,
            "width": null,
            "min_width": null,
            "border": null,
            "align_items": null,
            "bottom": null,
            "_model_module": "@jupyter-widgets/base",
            "top": null,
            "grid_column": null,
            "overflow_y": null,
            "overflow_x": null,
            "grid_auto_flow": null,
            "grid_area": null,
            "grid_template_columns": null,
            "flex": null,
            "_model_name": "LayoutModel",
            "justify_items": null,
            "grid_row": null,
            "max_height": null,
            "align_content": null,
            "visibility": null,
            "align_self": null,
            "height": null,
            "min_height": null,
            "padding": null,
            "grid_auto_rows": null,
            "grid_gap": null,
            "max_width": null,
            "order": null,
            "_view_module_version": "1.2.0",
            "grid_template_areas": null,
            "object_position": null,
            "object_fit": null,
            "grid_auto_columns": null,
            "margin": null,
            "display": null,
            "left": null
          }
        },
        "50f7d66e3b9f463787c23a02339dccb2": {
          "model_module": "@jupyter-widgets/controls",
          "model_name": "IntSliderModel",
          "model_module_version": "1.5.0",
          "state": {
            "_view_name": "IntSliderView",
            "style": "IPY_MODEL_47a3ef2eea7e4e7ab1974d950395c8c4",
            "_dom_classes": [],
            "description": "sample",
            "step": 1,
            "_model_name": "IntSliderModel",
            "orientation": "horizontal",
            "max": 19,
            "_view_module": "@jupyter-widgets/controls",
            "_model_module_version": "1.5.0",
            "value": 0,
            "_view_count": null,
            "disabled": false,
            "_view_module_version": "1.5.0",
            "min": 0,
            "continuous_update": true,
            "readout_format": "d",
            "description_tooltip": null,
            "readout": true,
            "_model_module": "@jupyter-widgets/controls",
            "layout": "IPY_MODEL_fa58b64bdd074763a4b0bcb1f24eed9f"
          }
        },
        "9c7d34ad41044e07af8b22429d704f3e": {
          "model_module": "@jupyter-widgets/controls",
          "model_name": "DropdownModel",
          "model_module_version": "1.5.0",
          "state": {
            "_options_labels": [
              "1.0",
              "0.1",
              "0.01",
              "0.001"
            ],
            "_view_name": "DropdownView",
            "style": "IPY_MODEL_5b57e9ac73ec4c118f5e6ed0e31541ee",
            "_dom_classes": [],
            "description": "alpha",
            "_model_name": "DropdownModel",
            "index": 1,
            "_view_module": "@jupyter-widgets/controls",
            "_model_module_version": "1.5.0",
            "_view_count": null,
            "disabled": false,
            "_view_module_version": "1.5.0",
            "description_tooltip": null,
            "_model_module": "@jupyter-widgets/controls",
            "layout": "IPY_MODEL_548943c85dd442ff8c6c33eb67a408db"
          }
        },
        "79f3055d7eb342b9a7536a8d903faf4e": {
          "model_module": "@jupyter-widgets/output",
          "model_name": "OutputModel",
          "model_module_version": "1.0.0",
          "state": {
            "_view_name": "OutputView",
            "msg_id": "",
            "_dom_classes": [],
            "_model_name": "OutputModel",
            "outputs": [
              {
                "output_type": "display_data",
                "data": {
                  "image/png": "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\n",
                  "text/plain": "<Figure size 432x288 with 1 Axes>"
                },
                "metadata": {
                  "needs_background": "light"
                }
              },
              {
                "output_type": "display_data",
                "data": {
                  "image/png": "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\n",
                  "text/plain": "<Figure size 432x288 with 1 Axes>"
                },
                "metadata": {
                  "needs_background": "light"
                }
              }
            ],
            "_view_module": "@jupyter-widgets/output",
            "_model_module_version": "1.0.0",
            "_view_count": null,
            "_view_module_version": "1.0.0",
            "layout": "IPY_MODEL_9465915fd2204bed812cc9f74843c982",
            "_model_module": "@jupyter-widgets/output"
          }
        },
        "47a3ef2eea7e4e7ab1974d950395c8c4": {
          "model_module": "@jupyter-widgets/controls",
          "model_name": "SliderStyleModel",
          "model_module_version": "1.5.0",
          "state": {
            "_view_name": "StyleView",
            "handle_color": null,
            "_model_name": "SliderStyleModel",
            "description_width": "",
            "_view_module": "@jupyter-widgets/base",
            "_model_module_version": "1.5.0",
            "_view_count": null,
            "_view_module_version": "1.2.0",
            "_model_module": "@jupyter-widgets/controls"
          }
        },
        "fa58b64bdd074763a4b0bcb1f24eed9f": {
          "model_module": "@jupyter-widgets/base",
          "model_name": "LayoutModel",
          "model_module_version": "1.2.0",
          "state": {
            "_view_name": "LayoutView",
            "grid_template_rows": null,
            "right": null,
            "justify_content": null,
            "_view_module": "@jupyter-widgets/base",
            "overflow": null,
            "_model_module_version": "1.2.0",
            "_view_count": null,
            "flex_flow": null,
            "width": null,
            "min_width": null,
            "border": null,
            "align_items": null,
            "bottom": null,
            "_model_module": "@jupyter-widgets/base",
            "top": null,
            "grid_column": null,
            "overflow_y": null,
            "overflow_x": null,
            "grid_auto_flow": null,
            "grid_area": null,
            "grid_template_columns": null,
            "flex": null,
            "_model_name": "LayoutModel",
            "justify_items": null,
            "grid_row": null,
            "max_height": null,
            "align_content": null,
            "visibility": null,
            "align_self": null,
            "height": null,
            "min_height": null,
            "padding": null,
            "grid_auto_rows": null,
            "grid_gap": null,
            "max_width": null,
            "order": null,
            "_view_module_version": "1.2.0",
            "grid_template_areas": null,
            "object_position": null,
            "object_fit": null,
            "grid_auto_columns": null,
            "margin": null,
            "display": null,
            "left": null
          }
        },
        "5b57e9ac73ec4c118f5e6ed0e31541ee": {
          "model_module": "@jupyter-widgets/controls",
          "model_name": "DescriptionStyleModel",
          "model_module_version": "1.5.0",
          "state": {
            "_view_name": "StyleView",
            "_model_name": "DescriptionStyleModel",
            "description_width": "",
            "_view_module": "@jupyter-widgets/base",
            "_model_module_version": "1.5.0",
            "_view_count": null,
            "_view_module_version": "1.2.0",
            "_model_module": "@jupyter-widgets/controls"
          }
        },
        "548943c85dd442ff8c6c33eb67a408db": {
          "model_module": "@jupyter-widgets/base",
          "model_name": "LayoutModel",
          "model_module_version": "1.2.0",
          "state": {
            "_view_name": "LayoutView",
            "grid_template_rows": null,
            "right": null,
            "justify_content": null,
            "_view_module": "@jupyter-widgets/base",
            "overflow": null,
            "_model_module_version": "1.2.0",
            "_view_count": null,
            "flex_flow": null,
            "width": null,
            "min_width": null,
            "border": null,
            "align_items": null,
            "bottom": null,
            "_model_module": "@jupyter-widgets/base",
            "top": null,
            "grid_column": null,
            "overflow_y": null,
            "overflow_x": null,
            "grid_auto_flow": null,
            "grid_area": null,
            "grid_template_columns": null,
            "flex": null,
            "_model_name": "LayoutModel",
            "justify_items": null,
            "grid_row": null,
            "max_height": null,
            "align_content": null,
            "visibility": null,
            "align_self": null,
            "height": null,
            "min_height": null,
            "padding": null,
            "grid_auto_rows": null,
            "grid_gap": null,
            "max_width": null,
            "order": null,
            "_view_module_version": "1.2.0",
            "grid_template_areas": null,
            "object_position": null,
            "object_fit": null,
            "grid_auto_columns": null,
            "margin": null,
            "display": null,
            "left": null
          }
        },
        "9465915fd2204bed812cc9f74843c982": {
          "model_module": "@jupyter-widgets/base",
          "model_name": "LayoutModel",
          "model_module_version": "1.2.0",
          "state": {
            "_view_name": "LayoutView",
            "grid_template_rows": null,
            "right": null,
            "justify_content": null,
            "_view_module": "@jupyter-widgets/base",
            "overflow": null,
            "_model_module_version": "1.2.0",
            "_view_count": null,
            "flex_flow": null,
            "width": null,
            "min_width": null,
            "border": null,
            "align_items": null,
            "bottom": null,
            "_model_module": "@jupyter-widgets/base",
            "top": null,
            "grid_column": null,
            "overflow_y": null,
            "overflow_x": null,
            "grid_auto_flow": null,
            "grid_area": null,
            "grid_template_columns": null,
            "flex": null,
            "_model_name": "LayoutModel",
            "justify_items": null,
            "grid_row": null,
            "max_height": null,
            "align_content": null,
            "visibility": null,
            "align_self": null,
            "height": null,
            "min_height": null,
            "padding": null,
            "grid_auto_rows": null,
            "grid_gap": null,
            "max_width": null,
            "order": null,
            "_view_module_version": "1.2.0",
            "grid_template_areas": null,
            "object_position": null,
            "object_fit": null,
            "grid_auto_columns": null,
            "margin": null,
            "display": null,
            "left": null
          }
        },
        "ae51a558bf684b76b9d48f6830cdc6ac": {
          "model_module": "@jupyter-widgets/controls",
          "model_name": "VBoxModel",
          "model_module_version": "1.5.0",
          "state": {
            "_view_name": "VBoxView",
            "_dom_classes": [
              "widget-interact"
            ],
            "_model_name": "VBoxModel",
            "_view_module": "@jupyter-widgets/controls",
            "_model_module_version": "1.5.0",
            "_view_count": null,
            "_view_module_version": "1.5.0",
            "box_style": "",
            "layout": "IPY_MODEL_da5c7b372c824143a809d0eb8b03e95a",
            "_model_module": "@jupyter-widgets/controls",
            "children": [
              "IPY_MODEL_4e06966e97b04ff9b86f0f8fda259cbf",
              "IPY_MODEL_2aeb6ab1ed67431592958bbcc57b7d08",
              "IPY_MODEL_5211334191a24be48834b033fbb13c76",
              "IPY_MODEL_84fe2490e99942ca9062c9a80c67648d",
              "IPY_MODEL_2d65535f5eaa414fba2383d44414b5db"
            ]
          }
        },
        "da5c7b372c824143a809d0eb8b03e95a": {
          "model_module": "@jupyter-widgets/base",
          "model_name": "LayoutModel",
          "model_module_version": "1.2.0",
          "state": {
            "_view_name": "LayoutView",
            "grid_template_rows": null,
            "right": null,
            "justify_content": null,
            "_view_module": "@jupyter-widgets/base",
            "overflow": null,
            "_model_module_version": "1.2.0",
            "_view_count": null,
            "flex_flow": null,
            "width": null,
            "min_width": null,
            "border": null,
            "align_items": null,
            "bottom": null,
            "_model_module": "@jupyter-widgets/base",
            "top": null,
            "grid_column": null,
            "overflow_y": null,
            "overflow_x": null,
            "grid_auto_flow": null,
            "grid_area": null,
            "grid_template_columns": null,
            "flex": null,
            "_model_name": "LayoutModel",
            "justify_items": null,
            "grid_row": null,
            "max_height": null,
            "align_content": null,
            "visibility": null,
            "align_self": null,
            "height": null,
            "min_height": null,
            "padding": null,
            "grid_auto_rows": null,
            "grid_gap": null,
            "max_width": null,
            "order": null,
            "_view_module_version": "1.2.0",
            "grid_template_areas": null,
            "object_position": null,
            "object_fit": null,
            "grid_auto_columns": null,
            "margin": null,
            "display": null,
            "left": null
          }
        },
        "4e06966e97b04ff9b86f0f8fda259cbf": {
          "model_module": "@jupyter-widgets/controls",
          "model_name": "IntSliderModel",
          "model_module_version": "1.5.0",
          "state": {
            "_view_name": "IntSliderView",
            "style": "IPY_MODEL_3d812cb7f66a465eb67310e469f9aac0",
            "_dom_classes": [],
            "description": "sample",
            "step": 1,
            "_model_name": "IntSliderModel",
            "orientation": "horizontal",
            "max": 1999,
            "_view_module": "@jupyter-widgets/controls",
            "_model_module_version": "1.5.0",
            "value": 10,
            "_view_count": null,
            "disabled": false,
            "_view_module_version": "1.5.0",
            "min": 0,
            "continuous_update": true,
            "readout_format": "d",
            "description_tooltip": null,
            "readout": true,
            "_model_module": "@jupyter-widgets/controls",
            "layout": "IPY_MODEL_45f25ebabe3b46cea69149b910c0db1e"
          }
        },
        "2aeb6ab1ed67431592958bbcc57b7d08": {
          "model_module": "@jupyter-widgets/controls",
          "model_name": "DropdownModel",
          "model_module_version": "1.5.0",
          "state": {
            "_options_labels": [
              "1.0",
              "0.1",
              "0.01",
              "0.001"
            ],
            "_view_name": "DropdownView",
            "style": "IPY_MODEL_7f9e89e2beaa4a4ca928f28684095393",
            "_dom_classes": [],
            "description": "alpha",
            "_model_name": "DropdownModel",
            "index": 1,
            "_view_module": "@jupyter-widgets/controls",
            "_model_module_version": "1.5.0",
            "_view_count": null,
            "disabled": false,
            "_view_module_version": "1.5.0",
            "description_tooltip": null,
            "_model_module": "@jupyter-widgets/controls",
            "layout": "IPY_MODEL_712fe3b005b3412d8a29c8f7d577fcff"
          }
        },
        "5211334191a24be48834b033fbb13c76": {
          "model_module": "@jupyter-widgets/controls",
          "model_name": "DropdownModel",
          "model_module_version": "1.5.0",
          "state": {
            "_options_labels": [
              "0",
              "0.5",
              "0.9",
              "0.99"
            ],
            "_view_name": "DropdownView",
            "style": "IPY_MODEL_8f41df55e009472b88b3fbb813d83d73",
            "_dom_classes": [],
            "description": "beta",
            "_model_name": "DropdownModel",
            "index": 2,
            "_view_module": "@jupyter-widgets/controls",
            "_model_module_version": "1.5.0",
            "_view_count": null,
            "disabled": false,
            "_view_module_version": "1.5.0",
            "description_tooltip": null,
            "_model_module": "@jupyter-widgets/controls",
            "layout": "IPY_MODEL_b3ecb3f53c5e490d8e75da3b1dd8fa5a"
          }
        },
        "84fe2490e99942ca9062c9a80c67648d": {
          "model_module": "@jupyter-widgets/controls",
          "model_name": "IntSliderModel",
          "model_module_version": "1.5.0",
          "state": {
            "_view_name": "IntSliderView",
            "style": "IPY_MODEL_ee21ac5e70694baca0b1f86964611994",
            "_dom_classes": [],
            "description": "batch_size",
            "step": 1,
            "_model_name": "IntSliderModel",
            "orientation": "horizontal",
            "max": 20,
            "_view_module": "@jupyter-widgets/controls",
            "_model_module_version": "1.5.0",
            "value": 5,
            "_view_count": null,
            "disabled": false,
            "_view_module_version": "1.5.0",
            "min": 1,
            "continuous_update": true,
            "readout_format": "d",
            "description_tooltip": null,
            "readout": true,
            "_model_module": "@jupyter-widgets/controls",
            "layout": "IPY_MODEL_293866e93baa44c28744b6bb40e5a786"
          }
        },
        "2d65535f5eaa414fba2383d44414b5db": {
          "model_module": "@jupyter-widgets/output",
          "model_name": "OutputModel",
          "model_module_version": "1.0.0",
          "state": {
            "_view_name": "OutputView",
            "msg_id": "",
            "_dom_classes": [],
            "_model_name": "OutputModel",
            "outputs": [
              {
                "output_type": "display_data",
                "data": {
                  "image/png": "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\n",
                  "text/plain": "<Figure size 432x288 with 1 Axes>"
                },
                "metadata": {
                  "needs_background": "light"
                }
              },
              {
                "output_type": "display_data",
                "data": {
                  "image/png": "iVBORw0KGgoAAAANSUhEUgAAAX4AAAEGCAYAAABiq/5QAAAABHNCSVQICAgIfAhkiAAAAAlwSFlzAAALEgAACxIB0t1+/AAAADh0RVh0U29mdHdhcmUAbWF0cGxvdGxpYiB2ZXJzaW9uMy4yLjIsIGh0dHA6Ly9tYXRwbG90bGliLm9yZy+WH4yJAAAgAElEQVR4nO3de3xV5Z3v8c8vFwh3AiSChKtAUBCwgnchoCNWsWqdiopztGidzlg7YztjtbbjmZ5Oy2hneuqxo3Wsr8qMotZrW4uXDiitNwiUm5qggCg3E8JdBHL5nT/WStjEnZBA9l7ZWd/367Vf7Ky99lq/rGy+e+3nWft5zN0REZH4yIq6ABERSS8Fv4hIzCj4RURiRsEvIhIzCn4RkZjJibqAlujXr58PHTo06jJERDLK0qVLt7l7QePlGRH8Q4cOpbS0NOoyREQyipltSLZcTT0iIjGj4BcRiRkFv4hIzCj4RURiRsEvIhIzCn4RkZhR8IuIxExGXMcvHVtdnVPnTq07dXUE/7pTV+fU1gXL3Qnuh+vWhT/XuTcsdw+e27BOXdPbTLaNOqfhOcH26vd/aPmhbQTb7JKbzdkj+jL2+F5kZVnUh1KkRRT8jRz6z54QNuF/9s8HxaFQaQiK+sfqSAizhGBJ2H6T2/QgWA4PxOTb+Hwghs9NEoBJtxlur/lAbOr3TLa9hN+92VA9tL2OoF/3zpQUFzBtdCHnjuxHj7zcqEsSaVKHDv5/f7mcp5dtOmIgJoZ0Js9LYwZZZmSbkZVF8K8ZWVlGdlZ432i4H/xL8Hj4s5mRXf/c+vXC7eVmZYXbsIRtcGgfDdug4X5WuI/shHWyEp6bbfX7bFmNWY32e+g59dsg2J4l2V79NuqPT+NtJiw/bJtmWBZJt7n904O8tqaSBWUVvPzOVp5aupGcLGPS0D5MG13I1NGFnFDQDTN9GpD2wzJhBq6JEyf60QzZ8NTSjbyxdlvzodY4wBJC6LAAazJAPv/cpkK1JSFkCWGT1Sjckgc1h/1+Ep2a2jqWfbSTBWUVLCyroPyTPQAM7tOVqcUFTB1dyBnD+5KXmx1xpRIXZrbU3Sd+bnlHDn6RKG3csY+F5ZUsLKvgjbXb2F9d19AnMHV0IVOLCzm+d5eoy5QOTMEvEqH91bW8ua6KhWUVLCirYOOOzwAY3b8HU0cXMm10IacM6k1Oti60k7aj4BdpJ9ydDyr2siB8EyjdsIPaOqdXl1ymjAo6iCePKqBPt05RlyoZTsEv0k7t+qyaP72/jQVlFby2poJtew+SZTBhUO+GDuKTBvRUH460moJfJAPU1TkrN+1iYVkFC8srWLlxFwD9e+YxdXQBJcWFnDOiH906d+gL8qSNKPhFMlDFnv28GnYQ//H9bew9UEOn7CxOH96HqcVB38DQft2iLlPaqbQHv5kNAuYCxwEOPOjuPzOzPsATwFDgQ+BKd9/R3LYU/CJwsKaO0g3bGzqI11Z+CsDwft0arhI6bVgfOuWog1gCUQT/AGCAuy8zsx7AUuAy4Hpgu7vPMbPbgXx3/05z21Lwi3zeR1X7WFD2CQvKK3lrXRUHa+ro1imbc0b2C/oGigsp7JkXdZkSocibeszseeC+8Fbi7lvCN4dX3b24uecq+EWat+9gDW98UMWC8uDLY1t27Qdg7MCeTC0OOojHF/UmW+MJxUqkwW9mQ4FFwFjgI3fvHS43YEf9z42ecxNwE8DgwYNP3bAh6ZzBItKIu1O2dU/DN4iXfbSDOoc+3TpRMir4BvHkUQX06qLxhDq6yILfzLoDrwH/4u7PmNnOxKA3sx3unt/cNnTGL3L0dnx6kEXvBx3Er66pZOe+arKzjFOH5Dd0EI86rrsuF+2AIgl+M8sFfge85O7/Hi4rR009IpGorXOWf7wj/DRQybtbdgMwsHcXpo4Ovjx25vB+dOmk8YQ6gig6dw14hKAj9+8Tlt8DVCV07vZx99ua25aCXyQ1tu7az8Ly4Cqh1z/Yxr6DtXTOyeLME/o2dBAP6tM16jLlKEUR/OcAfwRWAXXh4u8CbwNPAoOBDQSXc25vblsKfpHUO1BTy9vrtrMw7CD+sGofACMLuzd8g/jUIfnkajyhjBH5VT3HQsEvkn7rKoPxhBaWV7B4/Xaqa50eeTlMHhl0EJcUF9Cve+eoy5RmKPhF5KjtPVDDn97f1jCURMWeA5jBuKLeTAs7iMcc31PTT7YzCn4RaRN1dc67W3Y3jC66YuNO3KGgR2dKwtFFz9H0k+2Cgl9EUqJq74GG6ScXralk9/4acrMPn35yeD9NPxkFBb+IpFxNbR1LN+xgQXkFr5ZVHjb9ZP2bwOnD+mj6yTRR8ItI2iVOP/n6B9s4UFM//WQ4ntDoAgb00vSTqaLgF5FI7a+u5c21VQ19A5t2Hpp+clr99JOD8zWeUBtS8ItIu9HU9JO9uyZMPzmygHxNP3lMFPwi0m7t+qyaP75fycKySl4tr6Dq02D6yVMG5zd8g/jEAT3UQdxKCn4RyQj100/Wjy66alMw/eSAXnmUFBcytbiAszX9ZIso+EUkI1XsDqefLP/89JP1fQND+mr6yWQU/CKS8Q7W1FH64fagb6C8gnX1008WdGNaOOHMpKGafrKegl9EOpwNVZ8GcxCXV/LW2ioO1tbRvXMO54SXi5aMLqCwR3ynn1Twi0iHtu9gDa9/EFwu+mr5oeknTx7YK5yMvoDxRb1jNZ6Qgl9EYqOp6Sf7duvElOLgctFzR3b86ScV/CISW81NP1nfQTyysONNP6ngFxHh8OknF5RV8l7C9JP1bwJnntC3Q4wnpOAXEUliy67PWFgWXC6aOP3kWfXTT44upCg/M6efVPCLiBxB/fST9TOPbQinnxx1XHemji5kWnEw/WROhkw/qeAXEWkFd2fdtk8bZh07bPrJUQVMKw6mn+zbjqefjGKy9YeBGUCFu48Nl00AHgDygBrgb9198ZG2peAXkajt2V/N6x9sCz8NVFIZTj85vqh3Q9/AmON7tqsO4iiCfzKwF5ibEPwvAz919/lmdhFwm7uXHGlbCn4RaU+amn6ysEdnSorrp58soHvE4wk1Ffwpq8rdF5nZ0MaLgZ7h/V7A5lTtX0QkVbKyjLEDezF2YC++ed5Itu09wGvllSwor2D+6q08WbqR3GzjtGF9mFrc/qafTGkbfxj8v0s44z8ReAkwIAs4y903HGk7OuMXkUxRXVvHsnD6yYVlFaz5ZC8AQ/p2ZWpx0CR0+vA+dM5J/eWikXTuJgn+e4HX3P1pM7sSuMndz2/iuTcBNwEMHjz41A0bjvj+ICLS7ny8fR+vlgdNQm+sreJATR1dOyVMP1lcSP9eqRlPqL0E/y6gt7u7BZ95drl7z2Y2AeiMX0Q6hqamnzxxQE+mjQ76BiYMarvpJ9Pext+EzcAU4FVgGvB+mvcvIhKZvNzsYMC40YX8wJ33w+knF5ZV8MBr6/j5wrXkh9NPTh1dyJRRBfTu2vbTT6byqp55QAnQD/gEuAsoB35G8Iazn+ByzqVH2pbO+EWko6uffnJBWQWvlVc2TD/54F9N5PyTjjuqbUZxVc/VTTx0aqr2KSKSqXp1yWXGuOOZMe546uqcFRt3srC8knGDerX5vjRppYhIO5OVZZwyOJ9TBuenZvsp2aqIiLRbCn4RkZhR8IuIxIyCX0QkZhT8IiIxo+AXEYkZBb+ISMwo+EVEYkbBLyISMwp+EZGYUfCLiMSMgl9EJGYU/CIiMaPgFxGJGQW/iEjMKPhFRGJGwS8iEjMKfhGRmFHwi4jETMqC38weNrMKM1vdaPktZlZmZu+Y2d2p2r+IiCSXyjP+XwEXJi4ws6nApcB4dx8D/CSF+xcRkSRSFvzuvgjY3mjx3wBz3P1AuE5FqvYvIiLJpbuNfxRwrpm9bWavmdmkplY0s5vMrNTMSisrK9NYoohIx5bu4M8B+gBnAP8IPGlmlmxFd3/Q3Se6+8SCgoJ01igi0qGlO/g3As94YDFQB/RLcw0iIrGW7uB/DpgKYGajgE7AtjTXICISazmp2rCZzQNKgH5mthG4C3gYeDi8xPMgcJ27e6pqEBGRz0tZ8Lv71U08dG2q9ikiIkemb+6KiMSMgl9EJGYU/CIiMaPgFxGJGQW/iEjMKPhFRGJGwS8iEjMKfhGRmFHwi4jEjIJfRCRmFPwiIjGj4BcRiRkFv4hIzCj4RURiRsEvIhIzCn4RkZhR8IuIxIyCX0QkZloU/Gb2d2bW0wK/NLNlZnZBqosTEZG219Iz/tnuvhu4AMgH/gqYk7KqREQkZVoa/Bb+exHwX+7+TsKy5E8we9jMKsxsdZLHvm1mbmb9WleuiIgcq5YG/1Ize5kg+F8ysx5A3RGe8yvgwsYLzWwQwSeHj1pRp4iItJGWBv8NwO3AJHffB+QCX23uCe6+CNie5KGfArcB3oo6RUSkjbQ0+M8Eyt19p5ldC3wP2NXanZnZpcAmd1/RgnVvMrNSMyutrKxs7a5ERKQJLQ3++4F9ZjYe+DawFpjbmh2ZWVfgu8A/tWR9d3/Q3Se6+8SCgoLW7EpERJrR0uCvcXcHLgXuc/efAz1aua8TgGHACjP7ECgClplZ/1ZuR0REjkFOC9fbY2Z3EFzGea6ZZRG087eYu68CCut/DsN/ortva812RETk2LT0jH8mcIDgev6tBGfr9zT3BDObB7wJFJvZRjO74ZgqFRGRNtGiM35332pmjwKTzGwGsNjdm23jd/erj/D40BZXKSIibaalQzZcCSwGvgJcCbxtZn+ZysJERCQ1WtrGfyfBNfwVAGZWAPwBeCpVhYmISGq0tI0/qz70Q1WteK6IiLQjLT3jf9HMXgLmhT/PBH6fmpJERCSVWtq5+49mdgVwdrjoQXd/NnVliYhIqrT0jB93fxp4OoW1iIhIGjQb/Ga2h+SDqRng7t4zJVWJiEjKNBv87t7aYRlERKSd05U5IiIxo+AXEYkZBb+ISMwo+EVEYkbBLyISMwp+EZGYUfCLiMSMgl9EJGYU/CIiMaPgFxGJGQW/iEjMpCz4zexhM6sws9UJy+4xszIzW2lmz5pZ71TtX0REkkvlGf+vgAsbLXsFGOvu44A1wB0p3L+IiCSRsuB390XA9kbLXnb3mvDHt4CiVO1fRESSi7KNfzYwv6kHzewmMys1s9LKyso0liUi0rFFEvxmdidQAzza1Dru/qC7T3T3iQUFBekrTkSkg2vx1IttxcyuB2YA57l7stm9REQkhdIa/GZ2IXAbMMXd96Vz3yIiEkjl5ZzzgDeBYjPbaGY3APcBPYBXzGy5mT2Qqv2LiEhyKTvjd/erkyz+Zar2JyIiLaNv7oqIxIyCX0QkZhT8IiIxo+AXEYkZBb+ISMwo+EVEYkbBLyISM2kfsiGtaquhrjbqKqQjy8qB7I7930g6no79in3xdljyUNRVSEeW3RlOnAETroHhUyErO+qKRI6oYwd/8UXQc2DUVUhHtmsjvPMMrH4aehwP468K3gT6jYy6MpEmWSYMkDlx4kQvLS2NugyR5GoOQPl8WP4YfPAKeB0UnRa8AYz9MuT1irpCiSkzW+ruEz+3XMEv0ob2bIWVT8LyR6GyDHLy4MRLgjeBYVPUFCRppeAXSSd32Lws+BSw6tewf1fQ7Dj+KpgwC/qeEHWFEgMKfpGoVO+HNfPhz4/C2v8JmoIGnRF8ChhzOeT1jLpC6aAU/CLtwe4tsPKJoClo2xrI6dKoKUhfrZG2o+AXaU/cYdPS4A1g1dNwYBf0LIIJV8P4q9UUJG1CwS/SXlXvh/IXgv6AtQuCpqDBZwZ9AWMug849oq5QMpSCXyQT7N4MKx4P3gSq3ofcrnDil4KmoKHnqilIWkXBL5JJ3GFjKSz/b1j9DBzYDb0GH2oK6jMs6golAyj4RTJV9WdQ9kLQH7B2IeAw5OygKeikS6Fz96grlHYq7cFvZg8DM4AKdx8bLusDPAEMBT4ErnT3HUfaloJfJLRr46GmoO1rIbdbEP4TrgneDNQUJAmiCP7JwF5gbkLw3w1sd/c5ZnY7kO/u3znSthT8Io24w8eLg08Bq5+Bg3ug95DgDWD8VZA/NOoKpR2IpKnHzIYCv0sI/nKgxN23mNkA4FV3Lz7SdhT8Is04uA/Kfhe8Cax7DfCgI3jCNUHHsJqCYqu9BP9Od+8d3jdgR/3PSZ57E3ATwODBg0/dsGFDyuoU6TB2fgwr65uC1gVNQWMuC/oDhpwFZlFXKGnU7oI//HmHu+cfaTs64xdpJXf46K3gU8A7z8LBvUHzz/j6pqAhUVcoadBU8Ke7J+iTsImH8N+KNO9fJB7MYMiZcOl98A9r4PIHofdgePVH8LNx8MglQSfxwU+jrlQikO7g/w1wXXj/OuD5NO9fJH46dYPxM+G638Lfr4Kpd8LOj+DZv4afjILnb4YNbwafEiQWUnlVzzygBOgHfALcBTwHPAkMBjYQXM65/UjbUlOPSBtzhw1vBH0B7zwL1Z9C/rCgL2D8VdB7UNQVShvQF7hEJLkDe+G93wb9AR/+ETAYPiV4Exg9Azp1jbpCOUoKfhE5sh0fhl8QezRoDurUA8ZeHrwJDDpdVwVlGAW/iLRcXR18VN8U9FzQFNTnhENfEOtVFHWF0gIKfhE5Ogf2wrvPB28CG/5E0BRUEnwKOHEG5HaJuEBpioJfRI7d9vWwYh4snwe7PoLOPWHsl4M3gaJJagpqZxT8ItJ26uqCs//ljwWfBqr3Qd8RYVPQ1dDz+KgrFBT8IpIqB/YE/QDLHwv6BSwLhk8N3gRGX6ymoAgp+EUk9arWBlcFrZgHuz6Gzr3g5CuCpqCBp6opKM0U/CKSPnV18OGisCnoN1DzGfQbFXwKGHcV9BwQdYWxoOAXkWjs3x18O3j5Y/DxW0FT0AnnBW8CxRdBbl7UFXZYHS74q6ur2bhxI/v374+oqvYrLy+PoqIicnNzoy5F5HBVa4M3gBXzYPcmyOsFY/8ybAr6gpqC2liHC/7169fTo0cP+vbti+nF0sDdqaqqYs+ePQwbpgm5pZ2qq4X1rwVvAu/9Fmr2Q8HosCloJvToH3WFHUJ7GZa5zezfv1+hn4SZ0bdvX30SkvYtKxtOmAZXPBQMG33Jz4Kz/1f+Cf79RHj0K8GVQjUHoq60Q8qJuoBjodBPTsdFMkpeLzj1+uC27f2wKehx+PV1kNcbTv5K8Eng+FPUFNRGMjr4RaSD6TcSzr8Lpn0P1r0aDBa3bC4s+U8oPCl4Azj5SuhxXNSVZjQF/zHo3r07e/fujboMkY4nKxtGnBfcPtsJ7zwTfBJ4+Xvwyl0w8i+CN4FRX4ScTlFXm3EU/CLSvnXpDRNnB7fKNcGngBWPw5oXoUufQ01BA8arKaiFOkTw//Nv3+HdzbvbdJsnHd+Tuy4Z06J13Z3bbruN+fPnY2Z873vfY+bMmWzZsoWZM2eye/duampquP/++znrrLO44YYbKC0txcyYPXs2t956a5vWLtJhFYyCv/hnmPb9Q01BS38Fi38BhWMOXRXUvSDqStu1DhH8UXvmmWdYvnw5K1asYNu2bUyaNInJkyfz2GOPMX36dO68805qa2vZt28fy5cvZ9OmTaxevRqAnTt3Rly9SAbKzoGR5we3z3bA6qfDpqA74Q93wcgLgjeBkdPVFJREhwj+lp6Zp8qf/vQnrr76arKzsznuuOOYMmUKS5YsYdKkScyePZvq6mouu+wyJkyYwPDhw1m3bh233HILF198MRdccEGktYtkvC75MOnG4FZRFnwKWPkElP8+aAoad2XwBbEB46KutN2I5Dp+M7vVzN4xs9VmNs/MOuR3tidPnsyiRYsYOHAg119/PXPnziU/P58VK1ZQUlLCAw88wI033hh1mSIdR+FouOD/wK3vwjW/hmGTofRh+MW5cP858OZ/wKfboq4ycmkPfjMbCHwTmOjuY4Fs4Kp019GWzj33XJ544glqa2uprKxk0aJFnHbaaWzYsIHjjjuOr33ta9x4440sW7aMbdu2UVdXxxVXXMEPf/hDli1bFnX5Ih1Pdg6MugCufAS+XQ4X/SRY9tId8G/F8PgsKHsBaqujrjQSUTX15ABdzKwa6ApsjqiONnH55Zfz5ptvMn78eMyMu+++m/79+/PII49wzz33kJubS/fu3Zk7dy6bNm3iq1/9KnV1dQD8+Mc/jrh6kQ6uax847WvB7ZN3YcVjsOIJKPsddO13qCmo/9ioK02bSMbqMbO/A/4F+Ax42d1nNbd+srF63nvvPU488cTUFZnhdHxEmlFbAx/8IegPKJ8PddXQf1zwBnDyV6Bb36grbBPtZqweM8sHLgWGAccD3czs2iTr3WRmpWZWWllZme4yRaQjy86B4gth5n8FYwV98Z5guOgXv3OoKah8fodtCoqiqed8YL27VwKY2TPAWcB/J67k7g8CD0Jwxp/uIkUkJrr2gdNvCm5bVwdDRq8Mm4K6FQTfC5hwDRwX7dWDbSmKq3o+As4ws64WjCZ2HvBeBHWIiByu/1iY/i/wrffg6sdh0Onw9gNw/1nwi8nw9i9g3/aoqzxmaT/jd/e3zewpYBlQA/yZ8MxeRKRdyM6F4i8Gt0+3waqngv6A+bfBS3cGyyfMghHnB81GGSaSit39LuCuKPYtItIq3frBGV8PbltXBd8QXvkEvPcb6FYI42cGbwKFmXMxRcZOxCIiknb9T4YLfwzfKoOrHoOiSfDW/fAfZ8CDJbD4PzOiKUjBf4xefPFFiouLGTFiBHPmzAHgvvvuY8SIEZgZ27Y1/S3BkpISNIm8SAbK6QSjL4arHwveBKb/OLgC6Pf/EFwV9OR1sObl4LLRdijzGqfakdraWm6++WZeeeUVioqKmDRpEl/60pc4++yzmTFjBiUlJVGXKCKp1r0Azvzb4LZlZdAUtOpJePc56N4/aAoaf00wnEQ70TGCf/7tQdtbW+p/MnxxTrOrLF68mBEjRjB8+HAArrrqKp5//nnuuOOOVu9u3rx5/OhHP8Ldufjii/nXf/1Xamtrkw7hfO+99/LAAw+Qk5PDSSedxOOPP35Uv6KItLEB44LbX/wA3n8peBN44z54/Wcw8NTgstCxVwQDy0WoYwR/RDZt2sSgQYMafi4qKuLtt99u9XY2b97Md77zHZYuXUp+fj4XXHABzz33HIMGDUo6hPOcOXNYv349nTt31rDOIu1RTic48ZLgtrcCVj4ZXBX0wrfhxe8GzUQTZsEJU4PZxtJdXtr3mApHODNv75YsWUJJSQkFBcHkEbNmzWLRokV8//vfTzqE87hx45g1axaXXXYZl112WZSli8iRdC+Es74BZ94MW1Ycagp65xnoMSD8gtisYJKZNFHn7jEYOHAgH3/8ccPPGzduZODAgU2uP336dCZMmNDioZibGsL5hRde4Oabb2bZsmVMmjSJmpr22YEkIgnM4PgJcNHdwYihV84Npot84//BzyfBQ+cHQ0h/loZP8e7e7m+nnnqqN/buu+9+blm6VVdX+7Bhw3zdunV+4MABHzdunK9evbrh8SFDhnhlZWWTz58yZYovWbLEN2/e7IMHD/bKykqvqanx8847z5977jmvrKz0Xbt2ubv7qlWrfPz48V5bW+vr1693d/eDBw/6gAEDfMeOHZ/bdns4PiLSAru3ur9+r/t9p7vf1dP9BwXuv/6q+/uvuNfWHNOmgVJPkqkdo6knIjk5Odx3331Mnz6d2tpaZs+ezZgxY7j33nu5++672bp1K+PGjeOiiy7ioYceanI7AwYMYM6cOUydOrWhc/fSSy9lxYoVnxvCuba2lmuvvZZdu3bh7nzzm9+kd+/e6fqVRaSt9TgOzroFzvwGbP5z2BT062A6yR7Hw+UPwPApbbrLSIZlbi0Ny9x6Oj4iGazmQDA66PJH4eJ/g96Dj2ozTQ3LrDN+EZH2JqczjLksuKWAOndFRGImo4M/E5qpoqDjIiLNydjgz8vLo6qqSiHXiLtTVVVFXl5e1KWISDuVsW38RUVFbNy4EU3L+Hl5eXkUFRVFXYaItFMZG/y5ubkMGzYs6jJERDJOxjb1iIjI0VHwi4jEjIJfRCRmMuKbu2ZWCWw4yqf3A5qeBis6qqt1VFfrqK7Waa91wbHVNsTdCxovzIjgPxZmVprsK8tRU12to7paR3W1TnutC1JTm5p6RERiRsEvIhIzcQj+B6MuoAmqq3VUV+uortZpr3VBCmrr8G38IiJyuDic8YuISAIFv4hIzGR08JvZhWZWbmYfmNntSR7vbGZPhI+/bWZDEx67I1xebmbT01zXt8zsXTNbaWb/Y2ZDEh6rNbPl4e03aa7rejOrTNj/jQmPXWdm74e369Jc108TalpjZjsTHkvJ8TKzh82swsxWN/G4mdm9Yc0rzewLCY+l8lgdqa5ZYT2rzOwNMxuf8NiH4fLlZlaa7PkprKvEzHYl/K3+KeGxZv/+Ka7rHxNqWh2+nvqEj6XyeA0ys4VhDrxjZn+XZJ3UvcaSTcSbCTcgG1gLDAc6ASuAkxqt87fAA+H9q4Anwvsnhet3BoaF28lOY11Tga7h/b+pryv8eW+Ex+t64L4kz+0DrAv/zQ/v56errkbr3wI8nIbjNRn4ArC6iccvAuYDBpwBvJ3qY9XCus6q3x/wxfq6wp8/BPpFdLxKgN8d69+/retqtO4lwII0Ha8BwBfC+z2ANUn+P6bsNZbJZ/ynAR+4+zp3Pwg8DlzaaJ1LgUfC+08B55mZhcsfd/cD7r4e+CDcXlrqcveF7r4v/PEtIB1jKLfkeDVlOvCKu2939x3AK8CFEdV1NTCvjfbdJHdfBGxvZpVLgbkeeAvobWYDSO2xOmJd7v5GuF9I32urJcerKcfyumzrutLy2gJw9y3uviy8vwd4DxjYaLWUvcYyOfgHAh8n/LyRzx+4hnXcvQbYBfRt4XNTWVeiGwje1evlmVmpmb1lZm054WZL67oi/Fj5lJkNauVzU1kXYZPYMGBBwuJUHa8jaaruVB6r1mr82nLgZTNbamY3RVDPmWa2wszmm9mYcFm7OF5m1pUgPJ9OWJyW42VBE/QpwNuNHkrZayxjx+PvCMzsWmAiMCVh8RB332Rmw4EFZrbK3demqaTfAvPc/YCZ/fKudYEAAASdSURBVDXBp6Vpadp3S1wFPOXutQnLojxe7ZaZTSUI/nMSFp8THqtC4BUzKwvPiNNhGcHfaq+ZXQQ8B4xM075b4hLgdXdP/HSQ8uNlZt0J3mz+3t13t+W2m5PJZ/ybgEEJPxeFy5KuY2Y5QC+gqoXPTWVdmNn5wJ3Al9z9QP1yd98U/rsOeJXgTCAtdbl7VUItDwGntvS5qawrwVU0+iiewuN1JE3Vncpj1SJmNo7g73epu1fVL084VhXAs7Rd8+YRuftud98b3v89kGtm/WgHxyvU3GsrJcfLzHIJQv9Rd38mySqpe42louMiHTeCTyvrCD7613cKjWm0zs0c3rn7ZHh/DId37q6j7Tp3W1LXKQQdWiMbLc8HOof3+wHv00YdXS2sa0DC/cuBt/xQZ9L6sL788H6fdNUVrjeaoLPN0nG8wm0OpenOyos5vONtcaqPVQvrGkzQZ3VWo+XdgB4J998ALkxjXf3r/3YEAfpReOxa9PdPVV3h470I+gG6pet4hb/7XOD/NrNOyl5jbXZwo7gR9HqvIQjRO8NlPyA4iwbIA34d/kdYDAxPeO6d4fPKgS+mua4/AJ8Ay8Pbb8LlZwGrwhf/KuCGNNf1Y+CdcP8LgdEJz50dHscPgK+ms67w5/8NzGn0vJQdL4Kzvy1ANUEb6g3A14Gvh48b8POw5lXAxDQdqyPV9RCwI+G1VRouHx4epxXh3/jONNf1jYTX1lskvDEl+/unq65wnesJLvZIfF6qj9c5BH0IKxP+Vhel6zWmIRtERGImk9v4RUTkKCj4RURiRsEvIhIzCn4RkZhR8IuIxIyCX2LBzN4I/x1qZte08ba/m2xfIu2VLueUWDGzEuAf3H1GK56T48FYT009vtfdu7dFfSLpoDN+iQUz2xvenQOcG46xfquZZZvZPWa2JByc7q/D9UvM7I8WjPH/brjsuXDArnfqB+0yszlAl3B7jybuKxxP/Z5wnPdVZjYzYduvhgPhlZnZo+GosZjZHDs0V8NP0nmMJD40SJvEze0knPGHAb7L3SeZWWfgdTN7OVz3C8BYD4buBpjt7tvNrAuwxMyedvfbzewb7j4hyb6+DEwAxhMMKbHEzOoH+TqFYOiQzcDrwNlm9h7BUBmj3d3NrHeb//Yi6Ixf5ALgf5nZcoJhcftyaNTIxQmhD/BNM6sfcmAQRx5d8hyC0U5r3f0T4DVgUsK2N7p7HcHX9YcSDBu+H/ilmX0Z2JdkmyLHTMEvcWfALe4+IbwNc/f6M/5PG1YK+gbOB8509/HAnwnGgjpaBxLu1wL1/QinEUwaNAN48Ri2L9IkBb/EzR6Cqe7qvQT8TThELmY2ysy6JXleL2CHu+8zs9EEoyXWq65/fiN/BGaG/QgFBNMALm6qsHBs9l4eDFt8K0ETkUibUxu/xM1KoDZssvkV8DOCZpZlYQdrJZBsJq8Xga+H7fDlBM099R4EVprZMneflbD8WeBMghEeHbjN3beGbxzJ9ACeN7M8gk8i3zq6X1GkebqcU0QkZtTUIyISMwp+EZGYUfCLiMSMgl9EJGYU/CIiMaPgFxGJGQW/iEjM/H8JEoFuPRTf8gAAAABJRU5ErkJggg==\n",
                  "text/plain": "<Figure size 432x288 with 1 Axes>"
                },
                "metadata": {
                  "needs_background": "light"
                }
              }
            ],
            "_view_module": "@jupyter-widgets/output",
            "_model_module_version": "1.0.0",
            "_view_count": null,
            "_view_module_version": "1.0.0",
            "layout": "IPY_MODEL_394b3a48faaf4d41a697d1d029a256ee",
            "_model_module": "@jupyter-widgets/output"
          }
        },
        "3d812cb7f66a465eb67310e469f9aac0": {
          "model_module": "@jupyter-widgets/controls",
          "model_name": "SliderStyleModel",
          "model_module_version": "1.5.0",
          "state": {
            "_view_name": "StyleView",
            "handle_color": null,
            "_model_name": "SliderStyleModel",
            "description_width": "",
            "_view_module": "@jupyter-widgets/base",
            "_model_module_version": "1.5.0",
            "_view_count": null,
            "_view_module_version": "1.2.0",
            "_model_module": "@jupyter-widgets/controls"
          }
        },
        "45f25ebabe3b46cea69149b910c0db1e": {
          "model_module": "@jupyter-widgets/base",
          "model_name": "LayoutModel",
          "model_module_version": "1.2.0",
          "state": {
            "_view_name": "LayoutView",
            "grid_template_rows": null,
            "right": null,
            "justify_content": null,
            "_view_module": "@jupyter-widgets/base",
            "overflow": null,
            "_model_module_version": "1.2.0",
            "_view_count": null,
            "flex_flow": null,
            "width": null,
            "min_width": null,
            "border": null,
            "align_items": null,
            "bottom": null,
            "_model_module": "@jupyter-widgets/base",
            "top": null,
            "grid_column": null,
            "overflow_y": null,
            "overflow_x": null,
            "grid_auto_flow": null,
            "grid_area": null,
            "grid_template_columns": null,
            "flex": null,
            "_model_name": "LayoutModel",
            "justify_items": null,
            "grid_row": null,
            "max_height": null,
            "align_content": null,
            "visibility": null,
            "align_self": null,
            "height": null,
            "min_height": null,
            "padding": null,
            "grid_auto_rows": null,
            "grid_gap": null,
            "max_width": null,
            "order": null,
            "_view_module_version": "1.2.0",
            "grid_template_areas": null,
            "object_position": null,
            "object_fit": null,
            "grid_auto_columns": null,
            "margin": null,
            "display": null,
            "left": null
          }
        },
        "7f9e89e2beaa4a4ca928f28684095393": {
          "model_module": "@jupyter-widgets/controls",
          "model_name": "DescriptionStyleModel",
          "model_module_version": "1.5.0",
          "state": {
            "_view_name": "StyleView",
            "_model_name": "DescriptionStyleModel",
            "description_width": "",
            "_view_module": "@jupyter-widgets/base",
            "_model_module_version": "1.5.0",
            "_view_count": null,
            "_view_module_version": "1.2.0",
            "_model_module": "@jupyter-widgets/controls"
          }
        },
        "712fe3b005b3412d8a29c8f7d577fcff": {
          "model_module": "@jupyter-widgets/base",
          "model_name": "LayoutModel",
          "model_module_version": "1.2.0",
          "state": {
            "_view_name": "LayoutView",
            "grid_template_rows": null,
            "right": null,
            "justify_content": null,
            "_view_module": "@jupyter-widgets/base",
            "overflow": null,
            "_model_module_version": "1.2.0",
            "_view_count": null,
            "flex_flow": null,
            "width": null,
            "min_width": null,
            "border": null,
            "align_items": null,
            "bottom": null,
            "_model_module": "@jupyter-widgets/base",
            "top": null,
            "grid_column": null,
            "overflow_y": null,
            "overflow_x": null,
            "grid_auto_flow": null,
            "grid_area": null,
            "grid_template_columns": null,
            "flex": null,
            "_model_name": "LayoutModel",
            "justify_items": null,
            "grid_row": null,
            "max_height": null,
            "align_content": null,
            "visibility": null,
            "align_self": null,
            "height": null,
            "min_height": null,
            "padding": null,
            "grid_auto_rows": null,
            "grid_gap": null,
            "max_width": null,
            "order": null,
            "_view_module_version": "1.2.0",
            "grid_template_areas": null,
            "object_position": null,
            "object_fit": null,
            "grid_auto_columns": null,
            "margin": null,
            "display": null,
            "left": null
          }
        },
        "8f41df55e009472b88b3fbb813d83d73": {
          "model_module": "@jupyter-widgets/controls",
          "model_name": "DescriptionStyleModel",
          "model_module_version": "1.5.0",
          "state": {
            "_view_name": "StyleView",
            "_model_name": "DescriptionStyleModel",
            "description_width": "",
            "_view_module": "@jupyter-widgets/base",
            "_model_module_version": "1.5.0",
            "_view_count": null,
            "_view_module_version": "1.2.0",
            "_model_module": "@jupyter-widgets/controls"
          }
        },
        "b3ecb3f53c5e490d8e75da3b1dd8fa5a": {
          "model_module": "@jupyter-widgets/base",
          "model_name": "LayoutModel",
          "model_module_version": "1.2.0",
          "state": {
            "_view_name": "LayoutView",
            "grid_template_rows": null,
            "right": null,
            "justify_content": null,
            "_view_module": "@jupyter-widgets/base",
            "overflow": null,
            "_model_module_version": "1.2.0",
            "_view_count": null,
            "flex_flow": null,
            "width": null,
            "min_width": null,
            "border": null,
            "align_items": null,
            "bottom": null,
            "_model_module": "@jupyter-widgets/base",
            "top": null,
            "grid_column": null,
            "overflow_y": null,
            "overflow_x": null,
            "grid_auto_flow": null,
            "grid_area": null,
            "grid_template_columns": null,
            "flex": null,
            "_model_name": "LayoutModel",
            "justify_items": null,
            "grid_row": null,
            "max_height": null,
            "align_content": null,
            "visibility": null,
            "align_self": null,
            "height": null,
            "min_height": null,
            "padding": null,
            "grid_auto_rows": null,
            "grid_gap": null,
            "max_width": null,
            "order": null,
            "_view_module_version": "1.2.0",
            "grid_template_areas": null,
            "object_position": null,
            "object_fit": null,
            "grid_auto_columns": null,
            "margin": null,
            "display": null,
            "left": null
          }
        },
        "ee21ac5e70694baca0b1f86964611994": {
          "model_module": "@jupyter-widgets/controls",
          "model_name": "SliderStyleModel",
          "model_module_version": "1.5.0",
          "state": {
            "_view_name": "StyleView",
            "handle_color": null,
            "_model_name": "SliderStyleModel",
            "description_width": "",
            "_view_module": "@jupyter-widgets/base",
            "_model_module_version": "1.5.0",
            "_view_count": null,
            "_view_module_version": "1.2.0",
            "_model_module": "@jupyter-widgets/controls"
          }
        },
        "293866e93baa44c28744b6bb40e5a786": {
          "model_module": "@jupyter-widgets/base",
          "model_name": "LayoutModel",
          "model_module_version": "1.2.0",
          "state": {
            "_view_name": "LayoutView",
            "grid_template_rows": null,
            "right": null,
            "justify_content": null,
            "_view_module": "@jupyter-widgets/base",
            "overflow": null,
            "_model_module_version": "1.2.0",
            "_view_count": null,
            "flex_flow": null,
            "width": null,
            "min_width": null,
            "border": null,
            "align_items": null,
            "bottom": null,
            "_model_module": "@jupyter-widgets/base",
            "top": null,
            "grid_column": null,
            "overflow_y": null,
            "overflow_x": null,
            "grid_auto_flow": null,
            "grid_area": null,
            "grid_template_columns": null,
            "flex": null,
            "_model_name": "LayoutModel",
            "justify_items": null,
            "grid_row": null,
            "max_height": null,
            "align_content": null,
            "visibility": null,
            "align_self": null,
            "height": null,
            "min_height": null,
            "padding": null,
            "grid_auto_rows": null,
            "grid_gap": null,
            "max_width": null,
            "order": null,
            "_view_module_version": "1.2.0",
            "grid_template_areas": null,
            "object_position": null,
            "object_fit": null,
            "grid_auto_columns": null,
            "margin": null,
            "display": null,
            "left": null
          }
        },
        "394b3a48faaf4d41a697d1d029a256ee": {
          "model_module": "@jupyter-widgets/base",
          "model_name": "LayoutModel",
          "model_module_version": "1.2.0",
          "state": {
            "_view_name": "LayoutView",
            "grid_template_rows": null,
            "right": null,
            "justify_content": null,
            "_view_module": "@jupyter-widgets/base",
            "overflow": null,
            "_model_module_version": "1.2.0",
            "_view_count": null,
            "flex_flow": null,
            "width": null,
            "min_width": null,
            "border": null,
            "align_items": null,
            "bottom": null,
            "_model_module": "@jupyter-widgets/base",
            "top": null,
            "grid_column": null,
            "overflow_y": null,
            "overflow_x": null,
            "grid_auto_flow": null,
            "grid_area": null,
            "grid_template_columns": null,
            "flex": null,
            "_model_name": "LayoutModel",
            "justify_items": null,
            "grid_row": null,
            "max_height": null,
            "align_content": null,
            "visibility": null,
            "align_self": null,
            "height": null,
            "min_height": null,
            "padding": null,
            "grid_auto_rows": null,
            "grid_gap": null,
            "max_width": null,
            "order": null,
            "_view_module_version": "1.2.0",
            "grid_template_areas": null,
            "object_position": null,
            "object_fit": null,
            "grid_auto_columns": null,
            "margin": null,
            "display": null,
            "left": null
          }
        }
      }
    }
  },
  "cells": [
    {
      "cell_type": "markdown",
      "metadata": {
        "id": "pACl3ag-Fmp8"
      },
      "source": [
        "# 確率勾配法を用いた2層ネットワークの実装\n",
        "\n",
        "2次元データの3クラス分類問題を解く2層ネットワークを実装する．\n",
        "ここではサンプルを1つづつ用いる確率勾配法を実装する．\n",
        "\n",
        "# 準備"
      ]
    },
    {
      "cell_type": "code",
      "metadata": {
        "id": "Ty1lTDSVFmqA",
        "colab": {
          "base_uri": "https://localhost:8080/",
          "height": 102
        },
        "outputId": "84d57d12-f429-469f-ffd7-bf53582b9ba8"
      },
      "source": [
        "# load modules\n",
        "\n",
        "import numpy as np\n",
        "\n",
        "# !pip install scikit-image==0.12.3\n",
        "# import skimage.data\n",
        "\n",
        "import matplotlib\n",
        "import matplotlib.pyplot as plt\n",
        "from matplotlib.pyplot import imshow\n",
        "%matplotlib inline\n",
        "# plt.gray();\n",
        "plt.set_cmap(plt.cm.Paired);\n",
        "\n",
        "import sklearn\n",
        "# from sklearn.datasets import fetch_olivetti_faces\n",
        "from sklearn.datasets import make_blobs\n",
        "\n",
        "from ipywidgets import interact, interactive, fixed, RadioButtons\n",
        "import ipywidgets as widgets\n",
        "from IPython.display import display\n",
        "\n",
        "!pip install autograd\n",
        "import autograd.numpy as anp # autogradのnumpyの別名をanpにする\n",
        "# from autograd import elementwise_grad as grad\n",
        "from autograd import grad\n",
        "from autograd import jacobian, hessian"
      ],
      "execution_count": null,
      "outputs": [
        {
          "output_type": "stream",
          "name": "stdout",
          "text": [
            "Requirement already satisfied: autograd in /usr/local/lib/python3.7/dist-packages (1.3)\n",
            "Requirement already satisfied: numpy>=1.12 in /usr/local/lib/python3.7/dist-packages (from autograd) (1.19.5)\n",
            "Requirement already satisfied: future>=0.15.2 in /usr/local/lib/python3.7/dist-packages (from autograd) (0.16.0)\n"
          ]
        },
        {
          "output_type": "display_data",
          "data": {
            "text/plain": [
              "<Figure size 432x288 with 0 Axes>"
            ]
          },
          "metadata": {}
        }
      ]
    },
    {
      "cell_type": "code",
      "metadata": {
        "id": "7V_Un0XHFmqC",
        "colab": {
          "base_uri": "https://localhost:8080/"
        },
        "outputId": "66c0b475-030d-498c-d7c0-e64de3563dca"
      },
      "source": [
        "# check versions\n",
        "\n",
        "print(\"sklearn version :\", sklearn.__version__, \" >= 0.18.0\")\n",
        "# print(\"skimage version :\", skimage.__version__, \" >= 0.12.0\")\n",
        "print(\"numpy version :\", np.__version__, \" >= 0.12.0\")\n",
        "print(\"matplotlib version:\", matplotlib.__version__, \">= 2.0.0\")"
      ],
      "execution_count": null,
      "outputs": [
        {
          "output_type": "stream",
          "name": "stdout",
          "text": [
            "sklearn version : 0.22.2.post1  >= 0.18.0\n",
            "numpy version : 1.19.5  >= 0.12.0\n",
            "matplotlib version: 3.2.2 >= 2.0.0\n"
          ]
        }
      ]
    },
    {
      "cell_type": "markdown",
      "metadata": {
        "id": "lrkGAjEMFmqC"
      },
      "source": [
        "# データセットの準備\n",
        "\n",
        "sklearnのmake_blobで2次元データを準備する．\n",
        "返り値は，データXとラベルyである．3クラスの場合，ラベルyは0,1,2で返ってくる．"
      ]
    },
    {
      "cell_type": "code",
      "metadata": {
        "id": "1ULzWmSuFmqD",
        "colab": {
          "base_uri": "https://localhost:8080/",
          "height": 265
        },
        "outputId": "19a43272-18d2-4489-ae88-5c8a866284b3"
      },
      "source": [
        "X, y = make_blobs(n_samples=20, # 20個生成\n",
        "                  n_features=2, # 2次元\n",
        "                  centers=3,    # クラスタ中心2個\n",
        "                  cluster_std = 2 # クラスタの大きさ（標準偏差）\n",
        "                 )\n",
        "\n",
        "X = np.hstack((X, np.ones((X.shape[0], 1)))) # 同次座標\n",
        "\n",
        "# データの正規化\n",
        "X[:, 0] -= X[:, 0].mean()\n",
        "X[:, 1] -= X[:, 1].mean()\n",
        "X[:, 0] /= X[:, 0].std()\n",
        "X[:, 1] /= X[:, 1].std()\n",
        "\n",
        "plt.scatter(X[:, 0], X[:, 1], c=y, s=50, edgecolors='k');\n",
        "plt.gca().set_aspect('equal');"
      ],
      "execution_count": null,
      "outputs": [
        {
          "output_type": "display_data",
          "data": {
            "image/png": "[encoded data removed]",
            "text/plain": [
              "<Figure size 432x288 with 1 Axes>"
            ]
          },
          "metadata": {
            "needs_background": "light"
          }
        }
      ]
    },
    {
      "cell_type": "markdown",
      "metadata": {
        "id": "Zm4JQqGRFmqD"
      },
      "source": [
        "0,1,2のラベルyをone-hotエンコードに変更する．"
      ]
    },
    {
      "cell_type": "code",
      "metadata": {
        "id": "Aaj7IRMIFmqD",
        "colab": {
          "base_uri": "https://localhost:8080/"
        },
        "outputId": "f1cd776b-af1f-476f-b598-db466890d98f"
      },
      "source": [
        "y # これは0,12"
      ],
      "execution_count": null,
      "outputs": [
        {
          "output_type": "execute_result",
          "data": {
            "text/plain": [
              "array([2, 2, 1, 2, 0, 0, 1, 1, 0, 1, 1, 2, 2, 1, 0, 0, 1, 2, 0, 0])"
            ]
          },
          "metadata": {},
          "execution_count": 4
        }
      ]
    },
    {
      "cell_type": "code",
      "metadata": {
        "id": "C6GDSOxIFmqE"
      },
      "source": [
        "from sklearn.preprocessing import OneHotEncoder"
      ],
      "execution_count": null,
      "outputs": []
    },
    {
      "cell_type": "code",
      "metadata": {
        "id": "YDLttgl2FmqF",
        "colab": {
          "base_uri": "https://localhost:8080/"
        },
        "outputId": "f4ca0fcc-07d4-43f9-c8d9-a6a82a0169dc"
      },
      "source": [
        "Y = OneHotEncoder(categories='auto').fit_transform(y.reshape(-1,1)).toarray()\n",
        "Y # これでone-hotになっている"
      ],
      "execution_count": null,
      "outputs": [
        {
          "output_type": "execute_result",
          "data": {
            "text/plain": [
              "array([[0., 0., 1.],\n",
              "       [0., 0., 1.],\n",
              "       [0., 1., 0.],\n",
              "       [0., 0., 1.],\n",
              "       [1., 0., 0.],\n",
              "       [1., 0., 0.],\n",
              "       [0., 1., 0.],\n",
              "       [0., 1., 0.],\n",
              "       [1., 0., 0.],\n",
              "       [0., 1., 0.],\n",
              "       [0., 1., 0.],\n",
              "       [0., 0., 1.],\n",
              "       [0., 0., 1.],\n",
              "       [0., 1., 0.],\n",
              "       [1., 0., 0.],\n",
              "       [1., 0., 0.],\n",
              "       [0., 1., 0.],\n",
              "       [0., 0., 1.],\n",
              "       [1., 0., 0.],\n",
              "       [1., 0., 0.]])"
            ]
          },
          "metadata": {},
          "execution_count": 6
        }
      ]
    },
    {
      "cell_type": "markdown",
      "metadata": {
        "id": "KdGWep4rFmqF"
      },
      "source": [
        "識別境界を直線で描くヘルパー関数の準備．"
      ]
    },
    {
      "cell_type": "code",
      "metadata": {
        "id": "DULIV6FiFmqG"
      },
      "source": [
        "# 境界線を引く関数の定義\n",
        "\n",
        "def plotBoundary(X, net, w, mesh=True, n_neighbors=1):\n",
        "\n",
        "    # plot range\n",
        "    x_min = min(X[:,0])\n",
        "    x_max = max(X[:,0])\n",
        "    y_min = min(X[:,1])\n",
        "    y_max = max(X[:,1])\n",
        "\n",
        "    # visualizing decision function\n",
        "    XX, YY = np.mgrid[x_min:x_max:200j, y_min:y_max:200j] # make a grid\n",
        "    Z = np.zeros((XX.size, X.shape[1]))\n",
        "    for i,xi in enumerate(np.c_[XX.ravel(), YY.ravel(), np.ones(XX.size)]):\n",
        "        Z[i] = net(w, xi)\n",
        "    Z = np.argmax(Z, axis=1) # --> 0,1,2\n",
        "    Z = Z.reshape(XX.shape) # just reshape\n",
        "\n",
        "    if mesh:\n",
        "        plt.pcolormesh(XX, YY, Z, zorder=-10) # paint in 2 colors, if Z > 0 or not\n",
        "\n",
        "    plt.xlim(x_min, x_max)\n",
        "    plt.ylim(y_min, y_max)\n",
        "    "
      ],
      "execution_count": null,
      "outputs": []
    },
    {
      "cell_type": "markdown",
      "metadata": {
        "id": "nBxPVsBdFmqG"
      },
      "source": [
        "# 2層ネットワークの実装\n"
      ]
    },
    {
      "cell_type": "markdown",
      "metadata": {
        "id": "tWodP3gZFmqG"
      },
      "source": [
        "以下の2層ネットワークは，活性化関数をReLUやsigmoidなどにした例である． 第1層では入力の3次元を線形変換で6次元の中間層にして活性化関数を適用する．その後に，第2層では6次元を3次元にする（3クラス識別なので）．"
      ]
    },
    {
      "cell_type": "code",
      "metadata": {
        "id": "Wy-9smRJFmqG"
      },
      "source": [
        "# 2層ネットワーク\n",
        "w1 = anp.random.rand(3,6).flatten() - 0.5\n",
        "w2 = anp.random.rand(6,3).flatten() - 0.5\n",
        "w0 = np.concatenate((w1, w2))\n",
        "w = w0.copy()\n",
        "\n",
        "def sig(a):\n",
        "    return 1 / (1 + anp.exp(-a))\n",
        "def ReLU(a):\n",
        "    return anp.maximum(a, 0)\n",
        "def softmax(a):\n",
        "    d = anp.exp(a).sum()\n",
        "    return anp.exp(a) / d\n",
        "\n",
        "def mynet(w, xi):\n",
        "    return softmax(anp.dot(ReLU(anp.dot(xi, w[:18].reshape(3,6))), w[18:].reshape(6,3))) # 出力は3次元\n",
        "\n",
        "def loss(w, xi, yi):\n",
        "    fi = mynet(w, xi)\n",
        "    loss = - yi[0] * anp.log(fi[0]) - yi[1] * anp.log(fi[1]) - yi[2] * anp.log(fi[2]) # cross entropy\n",
        "    return loss\n",
        "\n",
        "def loss01(w, xi, yi):\n",
        "    \"\"\"0-1 loss\"\"\"\n",
        "    fi = mynet(w, xi)\n",
        "    predicted_class = np.argmax(fi)\n",
        "    loss = 1 - yi[predicted_class]\n",
        "    return loss\n",
        "\n",
        "\n",
        "g_mynet = grad(loss) # wについての勾配"
      ],
      "execution_count": null,
      "outputs": []
    },
    {
      "cell_type": "markdown",
      "metadata": {
        "id": "gM3tGy99FmqH"
      },
      "source": [
        "ネットワークの出力と勾配の出力を確かめる（デバッグ）．"
      ]
    },
    {
      "cell_type": "code",
      "metadata": {
        "id": "eHdfaAkgFmqH",
        "colab": {
          "base_uri": "https://localhost:8080/"
        },
        "outputId": "186138c4-acdd-4aca-db78-5532e8960089"
      },
      "source": [
        "X[0], Y[0]"
      ],
      "execution_count": null,
      "outputs": [
        {
          "output_type": "execute_result",
          "data": {
            "text/plain": [
              "(array([-0.73616685, -0.46099683,  1.        ]), array([0., 0., 1.]))"
            ]
          },
          "metadata": {},
          "execution_count": 9
        }
      ]
    },
    {
      "cell_type": "code",
      "metadata": {
        "id": "-zloa6EQFmqI",
        "colab": {
          "base_uri": "https://localhost:8080/"
        },
        "outputId": "9ad383a0-aa84-4130-f39a-fe837d7c1d65"
      },
      "source": [
        "xi = X[0]\n",
        "print(mynet(w, xi))"
      ],
      "execution_count": null,
      "outputs": [
        {
          "output_type": "stream",
          "name": "stdout",
          "text": [
            "[0.25220626 0.33030453 0.41748921]\n"
          ]
        }
      ]
    },
    {
      "cell_type": "code",
      "metadata": {
        "id": "KLJaNpF1FmqI",
        "colab": {
          "base_uri": "https://localhost:8080/"
        },
        "outputId": "e90cccb2-cfb3-4f1f-98db-76f7a02f3477"
      },
      "source": [
        "yi = Y[0]\n",
        "loss(w, xi, yi)"
      ],
      "execution_count": null,
      "outputs": [
        {
          "output_type": "execute_result",
          "data": {
            "text/plain": [
              "0.8734965819163774"
            ]
          },
          "metadata": {},
          "execution_count": 11
        }
      ]
    },
    {
      "cell_type": "code",
      "metadata": {
        "id": "vkTroeo-FmqI",
        "colab": {
          "base_uri": "https://localhost:8080/"
        },
        "outputId": "b65c8f5d-d0fd-4a73-e1b2-b2d25519b32a"
      },
      "source": [
        "print(g_mynet(w, xi, yi))"
      ],
      "execution_count": null,
      "outputs": [
        {
          "output_type": "stream",
          "name": "stdout",
          "text": [
            "[ 0.15353127  0.          0.14845126 -0.07097178  0.          0.05100523\n",
            "  0.09614319  0.          0.09296202 -0.04444341  0.          0.03194011\n",
            " -0.208555    0.         -0.20165437  0.0964072   0.         -0.06928488\n",
            "  0.22146818  0.29004808 -0.51151627  0.          0.          0.\n",
            "  0.01244447  0.01629803 -0.02874251  0.01282359  0.01679454 -0.02961813\n",
            "  0.          0.          0.          0.05933913  0.0777141  -0.13705322]\n"
          ]
        }
      ]
    },
    {
      "cell_type": "markdown",
      "metadata": {
        "id": "w-UzNcuMFmqI"
      },
      "source": [
        "以下では，サンプルを先頭から順番に一つずつ用いて，SGDの更新則を適用する．\n",
        "サンプルは3色のクラスに分かれている．"
      ]
    },
    {
      "cell_type": "code",
      "metadata": {
        "id": "0gy3lzDLLMn5"
      },
      "source": [
        "w = w0.copy()"
      ],
      "execution_count": null,
      "outputs": []
    },
    {
      "cell_type": "code",
      "metadata": {
        "id": "HMb4CC4sFmqJ",
        "colab": {
          "base_uri": "https://localhost:8080/",
          "height": 297,
          "referenced_widgets": [
            "88f2e55e4b504e66a825c92ddab977b8",
            "e4b653cd114245fa94297f369af81c8a",
            "486dfd80940548f6a749aef72c750042",
            "9f5569102a614c279aa5be2d9a9a0aa3",
            "2ce2cce465c44a1ca1ef2f21741e0632",
            "6b07408ff35d46638cce772db12dbe0b",
            "d7965d2909434a45903fc7d933b7eaae"
          ]
        },
        "outputId": "33af000d-9680-4015-a92c-3ce341eb8821"
      },
      "source": [
        "val_start = 0 # スライドバーの最小値\n",
        "val_end   = len(y)-1 # スライドバーの最大値\n",
        "val_step  = 1 # スライドバーはこの値ずつ増える\n",
        "val_default = 0 # スライドバーの初期値\n",
        "\n",
        "\n",
        "@interact(sample=(val_start, val_end, val_step)) # この行が関数の直前に必要\n",
        "def g(sample=val_default): # この関数を毎回呼び出す    \n",
        "    \n",
        "    global w\n",
        "    \n",
        "    if sample > len(y)-1:\n",
        "        return\n",
        "\n",
        "    plt.scatter(X[:, 0], X[:, 1], marker='o', s=50, c=y, edgecolors='k')\n",
        "    plt.scatter(X[sample, 0], X[sample, 1], marker='o', s=90, facecolors='none',  edgecolors='k')\n",
        "   \n",
        "    plotBoundary(X, mynet, w)\n",
        "    \n",
        "    xi = X[sample]\n",
        "    yi = Y[sample]\n",
        "\n",
        "   \n",
        "    plt.gca().set_aspect('equal');\n",
        "    plt.show()\n",
        "\n",
        "    # 更新則\n",
        "    alpha = 0.1\n",
        "    w = w - alpha * g_mynet(w, xi, yi)\n",
        "\n",
        "    "
      ],
      "execution_count": null,
      "outputs": [
        {
          "output_type": "display_data",
          "data": {
            "application/vnd.jupyter.widget-view+json": {
              "model_id": "88f2e55e4b504e66a825c92ddab977b8",
              "version_minor": 0,
              "version_major": 2
            },
            "text/plain": [
              "interactive(children=(IntSlider(value=0, description='sample', max=19), Output()), _dom_classes=('widget-inter…"
            ]
          },
          "metadata": {}
        }
      ]
    },
    {
      "cell_type": "markdown",
      "metadata": {
        "id": "HfmbDAqNFmqJ"
      },
      "source": [
        "# Task\n",
        "\n",
        "- 上記の2層ネットワークを改変して，3層ネットワークを実装せよ．\n",
        "- 中間層の次元を変えて，収束を議論せよ．"
      ]
    },
    {
      "cell_type": "markdown",
      "metadata": {
        "id": "WRvBkFa4iljg"
      },
      "source": [
        "# 追加\n",
        "\n",
        "以下ではステップサイズalphaを変更した場合の収束の様子を見る．"
      ]
    },
    {
      "cell_type": "code",
      "metadata": {
        "id": "ziA5SRvLihbq"
      },
      "source": [
        "w = w0.copy()"
      ],
      "execution_count": null,
      "outputs": []
    },
    {
      "cell_type": "code",
      "metadata": {
        "colab": {
          "base_uri": "https://localhost:8080/",
          "height": 591,
          "referenced_widgets": [
            "a6b6a597205a41738172c2de2c424b1e",
            "821038934e0e416a9c854b09e8d124a7",
            "50f7d66e3b9f463787c23a02339dccb2",
            "9c7d34ad41044e07af8b22429d704f3e",
            "79f3055d7eb342b9a7536a8d903faf4e",
            "47a3ef2eea7e4e7ab1974d950395c8c4",
            "fa58b64bdd074763a4b0bcb1f24eed9f",
            "5b57e9ac73ec4c118f5e6ed0e31541ee",
            "548943c85dd442ff8c6c33eb67a408db",
            "9465915fd2204bed812cc9f74843c982"
          ]
        },
        "id": "hyDX7gaMihPt",
        "outputId": "eac96890-37f6-4c5e-df6f-63a8ef49b2d6"
      },
      "source": [
        "val_start = 0 # スライドバーの最小値\n",
        "val_end   = len(y)-1 # スライドバーの最大値\n",
        "val_step  = 1 # スライドバーはこの値ずつ増える\n",
        "val_default = 0 # スライドバーの初期値\n",
        "\n",
        "loss_val = []\n",
        "\n",
        "@interact(sample=(val_start, val_end, val_step), alpha=[1.0, 0.1, 0.01, 0.001]) # この行が関数の直前に必要\n",
        "def g(sample=val_default, alpha=0.1): # この関数を毎回呼び出す    \n",
        "    \n",
        "    global w\n",
        "    \n",
        "    if sample > len(y)-1:\n",
        "        return\n",
        "\n",
        "    plt.scatter(X[:, 0], X[:, 1], marker='o', s=50, c=y, edgecolors='k')\n",
        "    plt.scatter(X[sample, 0], X[sample, 1], marker='o', s=90, facecolors='none',  edgecolors='k')\n",
        "   \n",
        "    plotBoundary(X, mynet, w)\n",
        "    \n",
        "    xi = X[sample]\n",
        "    yi = Y[sample]\n",
        "\n",
        "   \n",
        "    plt.gca().set_aspect('equal');\n",
        "    plt.show()\n",
        "\n",
        "    # 更新則\n",
        "    w = w - alpha * g_mynet(w, xi, yi)\n",
        "\n",
        "    loss_val.append(sum([loss(w, xi, yi) for xi,yi in zip(X,Y)])) # loss for all samples\n",
        "    plt.plot(loss_val)\n",
        "    plt.ylabel('loss')\n",
        "    plt.xlabel('iterations')\n",
        "    plt.show()"
      ],
      "execution_count": null,
      "outputs": [
        {
          "output_type": "display_data",
          "data": {
            "application/vnd.jupyter.widget-view+json": {
              "model_id": "a6b6a597205a41738172c2de2c424b1e",
              "version_minor": 0,
              "version_major": 2
            },
            "text/plain": [
              "interactive(children=(IntSlider(value=0, description='sample', max=19), Dropdown(description='alpha', index=1,…"
            ]
          },
          "metadata": {}
        }
      ]
    },
    {
      "cell_type": "markdown",
      "metadata": {
        "id": "_F5QMOgmikd5"
      },
      "source": [
        "- 以下ではステップサイズalphaに加えて，慣性項betaを変更する．\n",
        "- また01-損失も計算し，最小化している目的関数である交差エントロピー損失と比較する．\n",
        "- 更に，エポックを設定し，スライドバーを延々と動かし続けられるようにする．\n",
        "- またミニバッチ学習のbatch_sizeを設定する（1ならSGD）．実装では，勾配を蓄積してbatch_size回だけ溜まったら更新することにしている"
      ]
    },
    {
      "cell_type": "code",
      "metadata": {
        "id": "w_jiHVbdFmqJ"
      },
      "source": [
        "w = w0.copy()"
      ],
      "execution_count": null,
      "outputs": []
    },
    {
      "cell_type": "code",
      "metadata": {
        "scrolled": false,
        "id": "L10SuH6tFmqJ",
        "colab": {
          "base_uri": "https://localhost:8080/",
          "height": 655,
          "referenced_widgets": [
            "ae51a558bf684b76b9d48f6830cdc6ac",
            "da5c7b372c824143a809d0eb8b03e95a",
            "4e06966e97b04ff9b86f0f8fda259cbf",
            "2aeb6ab1ed67431592958bbcc57b7d08",
            "5211334191a24be48834b033fbb13c76",
            "84fe2490e99942ca9062c9a80c67648d",
            "2d65535f5eaa414fba2383d44414b5db",
            "3d812cb7f66a465eb67310e469f9aac0",
            "45f25ebabe3b46cea69149b910c0db1e",
            "7f9e89e2beaa4a4ca928f28684095393",
            "712fe3b005b3412d8a29c8f7d577fcff",
            "8f41df55e009472b88b3fbb813d83d73",
            "b3ecb3f53c5e490d8e75da3b1dd8fa5a",
            "ee21ac5e70694baca0b1f86964611994",
            "293866e93baa44c28744b6bb40e5a786",
            "394b3a48faaf4d41a697d1d029a256ee"
          ]
        },
        "outputId": "d0e58c99-dbdb-4499-9737-f068a981b00d"
      },
      "source": [
        "N = len(y)\n",
        "epochs = 100\n",
        "max_iter = N * epochs - 1\n",
        "\n",
        "val_start = 0 # スライドバーの最小値\n",
        "val_end   = max_iter # スライドバーの最大値\n",
        "val_step  = 1 # スライドバーはこの値ずつ増える\n",
        "val_default = 0 # スライドバーの初期値\n",
        "\n",
        "loss_val = []\n",
        "loss01_val = []\n",
        "\n",
        "d = np.zeros_like(w)\n",
        "grad = np.zeros_like(w)\n",
        "batch_size = 2\n",
        "batch_index = 0\n",
        "\n",
        "@interact(sample=(val_start, val_end, val_step), \n",
        "          alpha=[1.0, 0.1, 0.01, 0.001],\n",
        "          beta=[0, 0.5, 0.9, 0.99],\n",
        "          batch_size=(1, N),\n",
        "          )\n",
        "def g(sample=val_default, alpha=0.1, beta=0.9, batch_size=1):\n",
        "    \n",
        "    global w, d, grad, batch_index\n",
        "\n",
        "    xi = X[sample % N]\n",
        "    yi = Y[sample % N]\n",
        "    \n",
        "    # 更新則\n",
        "    grad += g_mynet(w, xi, yi)\n",
        "\n",
        "    batch_index += 1\n",
        "    if batch_index >= batch_size:    \n",
        "\n",
        "        d = beta * d + (1 - beta) * grad  # beta=0なら慣性項を使わない\n",
        "        w = w - alpha * grad\n",
        "\n",
        "        grad *= 0  # zero_grad\n",
        "        batch_index = 0\n",
        "\n",
        "        plt.scatter(X[:, 0], X[:, 1], marker='o', s=50, c=y, edgecolors='k')\n",
        "        plt.scatter(X[sample % N, 0], X[sample % N, 1], \n",
        "                    marker='o', s=90, facecolors='none', edgecolors='k')\n",
        "        plotBoundary(X, mynet, w)\n",
        "        plt.gca().set_aspect('equal');\n",
        "        plt.show()\n",
        "\n",
        "        loss_val.append(sum([loss(w, xi, yi) for xi, yi in zip(X, Y)])) # loss for all samples\n",
        "        loss01_val.append(sum([loss01(w, xi, yi) for xi, yi in zip(X, Y)])) # loss for all samples\n",
        "        plt.plot(loss_val, label='loss')\n",
        "        plt.plot(loss01_val, label='01-loss')\n",
        "        plt.ylabel('loss')\n",
        "        plt.xlabel('iterations')\n",
        "        plt.legend()\n",
        "        plt.show()"
      ],
      "execution_count": null,
      "outputs": [
        {
          "output_type": "display_data",
          "data": {
            "application/vnd.jupyter.widget-view+json": {
              "model_id": "ae51a558bf684b76b9d48f6830cdc6ac",
              "version_minor": 0,
              "version_major": 2
            },
            "text/plain": [
              "interactive(children=(IntSlider(value=0, description='sample', max=1999), Dropdown(description='alpha', index=…"
            ]
          },
          "metadata": {}
        }
      ]
    },
    {
      "cell_type": "code",
      "metadata": {
        "id": "A1WwK3qwFmqK"
      },
      "source": [
        ""
      ],
      "execution_count": null,
      "outputs": []
    }
  ]
}