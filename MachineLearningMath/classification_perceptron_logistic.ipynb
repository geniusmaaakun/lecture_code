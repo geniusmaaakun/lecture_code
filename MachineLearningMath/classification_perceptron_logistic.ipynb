{
  "nbformat": 4,
  "nbformat_minor": 0,
  "metadata": {
    "kernelspec": {
      "display_name": "Python 3",
      "language": "python",
      "name": "python3"
    },
    "language_info": {
      "codemirror_mode": {
        "name": "ipython",
        "version": 3
      },
      "file_extension": ".py",
      "mimetype": "text/x-python",
      "name": "python",
      "nbconvert_exporter": "python",
      "pygments_lexer": "ipython3",
      "version": "3.7.7"
    },
    "toc": {
      "base_numbering": 1,
      "nav_menu": {},
      "number_sections": true,
      "sideBar": false,
      "skip_h1_title": false,
      "title_cell": "Table of Contents",
      "title_sidebar": "Contents",
      "toc_cell": false,
      "toc_position": {},
      "toc_section_display": true,
      "toc_window_display": false
    },
    "colab": {
      "name": "classification_perceptron_logistic.ipynb",
      "provenance": []
    },
    "widgets": {
      "application/vnd.jupyter.widget-state+json": {
        "d7619e5699a641ffab164d4631d31583": {
          "model_module": "@jupyter-widgets/controls",
          "model_name": "VBoxModel",
          "model_module_version": "1.5.0",
          "state": {
            "_view_name": "VBoxView",
            "_dom_classes": [
              "widget-interact"
            ],
            "_model_name": "VBoxModel",
            "_view_module": "@jupyter-widgets/controls",
            "_model_module_version": "1.5.0",
            "_view_count": null,
            "_view_module_version": "1.5.0",
            "box_style": "",
            "layout": "IPY_MODEL_4d06db6cbf434dd2b78b8937f95c04f3",
            "_model_module": "@jupyter-widgets/controls",
            "children": [
              "IPY_MODEL_0a647f71472948309e1c0ef17d178314",
              "IPY_MODEL_36a94d784ef144fea7ecf61b96a67755"
            ]
          }
        },
        "4d06db6cbf434dd2b78b8937f95c04f3": {
          "model_module": "@jupyter-widgets/base",
          "model_name": "LayoutModel",
          "model_module_version": "1.2.0",
          "state": {
            "_view_name": "LayoutView",
            "grid_template_rows": null,
            "right": null,
            "justify_content": null,
            "_view_module": "@jupyter-widgets/base",
            "overflow": null,
            "_model_module_version": "1.2.0",
            "_view_count": null,
            "flex_flow": null,
            "width": null,
            "min_width": null,
            "border": null,
            "align_items": null,
            "bottom": null,
            "_model_module": "@jupyter-widgets/base",
            "top": null,
            "grid_column": null,
            "overflow_y": null,
            "overflow_x": null,
            "grid_auto_flow": null,
            "grid_area": null,
            "grid_template_columns": null,
            "flex": null,
            "_model_name": "LayoutModel",
            "justify_items": null,
            "grid_row": null,
            "max_height": null,
            "align_content": null,
            "visibility": null,
            "align_self": null,
            "height": null,
            "min_height": null,
            "padding": null,
            "grid_auto_rows": null,
            "grid_gap": null,
            "max_width": null,
            "order": null,
            "_view_module_version": "1.2.0",
            "grid_template_areas": null,
            "object_position": null,
            "object_fit": null,
            "grid_auto_columns": null,
            "margin": null,
            "display": null,
            "left": null
          }
        },
        "0a647f71472948309e1c0ef17d178314": {
          "model_module": "@jupyter-widgets/controls",
          "model_name": "IntSliderModel",
          "model_module_version": "1.5.0",
          "state": {
            "_view_name": "IntSliderView",
            "style": "IPY_MODEL_5d146745bc8546eab4a90b967c3eeae9",
            "_dom_classes": [],
            "description": "sample",
            "step": 1,
            "_model_name": "IntSliderModel",
            "orientation": "horizontal",
            "max": 19,
            "_view_module": "@jupyter-widgets/controls",
            "_model_module_version": "1.5.0",
            "value": 4,
            "_view_count": null,
            "disabled": false,
            "_view_module_version": "1.5.0",
            "min": 0,
            "continuous_update": true,
            "readout_format": "d",
            "description_tooltip": null,
            "readout": true,
            "_model_module": "@jupyter-widgets/controls",
            "layout": "IPY_MODEL_c4102d7f214b4a2fa7f95a47dab6f295"
          }
        },
        "36a94d784ef144fea7ecf61b96a67755": {
          "model_module": "@jupyter-widgets/output",
          "model_name": "OutputModel",
          "model_module_version": "1.0.0",
          "state": {
            "_view_name": "OutputView",
            "msg_id": "",
            "_dom_classes": [],
            "_model_name": "OutputModel",
            "outputs": [
              {
                "output_type": "display_data",
                "data": {
                  "image/png": "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\n",
                  "text/plain": "<Figure size 432x288 with 1 Axes>"
                },
                "metadata": {
                  "needs_background": "light"
                }
              }
            ],
            "_view_module": "@jupyter-widgets/output",
            "_model_module_version": "1.0.0",
            "_view_count": null,
            "_view_module_version": "1.0.0",
            "layout": "IPY_MODEL_cbb93b4720ba44bba10fdbe2d1390bfc",
            "_model_module": "@jupyter-widgets/output"
          }
        },
        "5d146745bc8546eab4a90b967c3eeae9": {
          "model_module": "@jupyter-widgets/controls",
          "model_name": "SliderStyleModel",
          "model_module_version": "1.5.0",
          "state": {
            "_view_name": "StyleView",
            "handle_color": null,
            "_model_name": "SliderStyleModel",
            "description_width": "",
            "_view_module": "@jupyter-widgets/base",
            "_model_module_version": "1.5.0",
            "_view_count": null,
            "_view_module_version": "1.2.0",
            "_model_module": "@jupyter-widgets/controls"
          }
        },
        "c4102d7f214b4a2fa7f95a47dab6f295": {
          "model_module": "@jupyter-widgets/base",
          "model_name": "LayoutModel",
          "model_module_version": "1.2.0",
          "state": {
            "_view_name": "LayoutView",
            "grid_template_rows": null,
            "right": null,
            "justify_content": null,
            "_view_module": "@jupyter-widgets/base",
            "overflow": null,
            "_model_module_version": "1.2.0",
            "_view_count": null,
            "flex_flow": null,
            "width": null,
            "min_width": null,
            "border": null,
            "align_items": null,
            "bottom": null,
            "_model_module": "@jupyter-widgets/base",
            "top": null,
            "grid_column": null,
            "overflow_y": null,
            "overflow_x": null,
            "grid_auto_flow": null,
            "grid_area": null,
            "grid_template_columns": null,
            "flex": null,
            "_model_name": "LayoutModel",
            "justify_items": null,
            "grid_row": null,
            "max_height": null,
            "align_content": null,
            "visibility": null,
            "align_self": null,
            "height": null,
            "min_height": null,
            "padding": null,
            "grid_auto_rows": null,
            "grid_gap": null,
            "max_width": null,
            "order": null,
            "_view_module_version": "1.2.0",
            "grid_template_areas": null,
            "object_position": null,
            "object_fit": null,
            "grid_auto_columns": null,
            "margin": null,
            "display": null,
            "left": null
          }
        },
        "cbb93b4720ba44bba10fdbe2d1390bfc": {
          "model_module": "@jupyter-widgets/base",
          "model_name": "LayoutModel",
          "model_module_version": "1.2.0",
          "state": {
            "_view_name": "LayoutView",
            "grid_template_rows": null,
            "right": null,
            "justify_content": null,
            "_view_module": "@jupyter-widgets/base",
            "overflow": null,
            "_model_module_version": "1.2.0",
            "_view_count": null,
            "flex_flow": null,
            "width": null,
            "min_width": null,
            "border": null,
            "align_items": null,
            "bottom": null,
            "_model_module": "@jupyter-widgets/base",
            "top": null,
            "grid_column": null,
            "overflow_y": null,
            "overflow_x": null,
            "grid_auto_flow": null,
            "grid_area": null,
            "grid_template_columns": null,
            "flex": null,
            "_model_name": "LayoutModel",
            "justify_items": null,
            "grid_row": null,
            "max_height": null,
            "align_content": null,
            "visibility": null,
            "align_self": null,
            "height": null,
            "min_height": null,
            "padding": null,
            "grid_auto_rows": null,
            "grid_gap": null,
            "max_width": null,
            "order": null,
            "_view_module_version": "1.2.0",
            "grid_template_areas": null,
            "object_position": null,
            "object_fit": null,
            "grid_auto_columns": null,
            "margin": null,
            "display": null,
            "left": null
          }
        },
        "098c4d6b1dfe41a39c2256050d795bd5": {
          "model_module": "@jupyter-widgets/controls",
          "model_name": "VBoxModel",
          "model_module_version": "1.5.0",
          "state": {
            "_view_name": "VBoxView",
            "_dom_classes": [
              "widget-interact"
            ],
            "_model_name": "VBoxModel",
            "_view_module": "@jupyter-widgets/controls",
            "_model_module_version": "1.5.0",
            "_view_count": null,
            "_view_module_version": "1.5.0",
            "box_style": "",
            "layout": "IPY_MODEL_55e5dcafa1a6426fb665090a9224630b",
            "_model_module": "@jupyter-widgets/controls",
            "children": [
              "IPY_MODEL_d0df695c5e464d0fb01401e6b9d35c04",
              "IPY_MODEL_211d33272ce34953a14ac171b9ed6bf1"
            ]
          }
        },
        "55e5dcafa1a6426fb665090a9224630b": {
          "model_module": "@jupyter-widgets/base",
          "model_name": "LayoutModel",
          "model_module_version": "1.2.0",
          "state": {
            "_view_name": "LayoutView",
            "grid_template_rows": null,
            "right": null,
            "justify_content": null,
            "_view_module": "@jupyter-widgets/base",
            "overflow": null,
            "_model_module_version": "1.2.0",
            "_view_count": null,
            "flex_flow": null,
            "width": null,
            "min_width": null,
            "border": null,
            "align_items": null,
            "bottom": null,
            "_model_module": "@jupyter-widgets/base",
            "top": null,
            "grid_column": null,
            "overflow_y": null,
            "overflow_x": null,
            "grid_auto_flow": null,
            "grid_area": null,
            "grid_template_columns": null,
            "flex": null,
            "_model_name": "LayoutModel",
            "justify_items": null,
            "grid_row": null,
            "max_height": null,
            "align_content": null,
            "visibility": null,
            "align_self": null,
            "height": null,
            "min_height": null,
            "padding": null,
            "grid_auto_rows": null,
            "grid_gap": null,
            "max_width": null,
            "order": null,
            "_view_module_version": "1.2.0",
            "grid_template_areas": null,
            "object_position": null,
            "object_fit": null,
            "grid_auto_columns": null,
            "margin": null,
            "display": null,
            "left": null
          }
        },
        "d0df695c5e464d0fb01401e6b9d35c04": {
          "model_module": "@jupyter-widgets/controls",
          "model_name": "IntSliderModel",
          "model_module_version": "1.5.0",
          "state": {
            "_view_name": "IntSliderView",
            "style": "IPY_MODEL_cc7a905102f54e608e306e165b858c09",
            "_dom_classes": [],
            "description": "sample",
            "step": 1,
            "_model_name": "IntSliderModel",
            "orientation": "horizontal",
            "max": 19,
            "_view_module": "@jupyter-widgets/controls",
            "_model_module_version": "1.5.0",
            "value": 3,
            "_view_count": null,
            "disabled": false,
            "_view_module_version": "1.5.0",
            "min": 0,
            "continuous_update": true,
            "readout_format": "d",
            "description_tooltip": null,
            "readout": true,
            "_model_module": "@jupyter-widgets/controls",
            "layout": "IPY_MODEL_a4b6cbbf527a49e5b33c35a790276151"
          }
        },
        "211d33272ce34953a14ac171b9ed6bf1": {
          "model_module": "@jupyter-widgets/output",
          "model_name": "OutputModel",
          "model_module_version": "1.0.0",
          "state": {
            "_view_name": "OutputView",
            "msg_id": "",
            "_dom_classes": [],
            "_model_name": "OutputModel",
            "outputs": [
              {
                "output_type": "display_data",
                "data": {
                  "image/png": "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\n",
                  "text/plain": "<Figure size 432x288 with 1 Axes>"
                },
                "metadata": {
                  "needs_background": "light"
                }
              }
            ],
            "_view_module": "@jupyter-widgets/output",
            "_model_module_version": "1.0.0",
            "_view_count": null,
            "_view_module_version": "1.0.0",
            "layout": "IPY_MODEL_3aab325c941f427ea03280213a88eecd",
            "_model_module": "@jupyter-widgets/output"
          }
        },
        "cc7a905102f54e608e306e165b858c09": {
          "model_module": "@jupyter-widgets/controls",
          "model_name": "SliderStyleModel",
          "model_module_version": "1.5.0",
          "state": {
            "_view_name": "StyleView",
            "handle_color": null,
            "_model_name": "SliderStyleModel",
            "description_width": "",
            "_view_module": "@jupyter-widgets/base",
            "_model_module_version": "1.5.0",
            "_view_count": null,
            "_view_module_version": "1.2.0",
            "_model_module": "@jupyter-widgets/controls"
          }
        },
        "a4b6cbbf527a49e5b33c35a790276151": {
          "model_module": "@jupyter-widgets/base",
          "model_name": "LayoutModel",
          "model_module_version": "1.2.0",
          "state": {
            "_view_name": "LayoutView",
            "grid_template_rows": null,
            "right": null,
            "justify_content": null,
            "_view_module": "@jupyter-widgets/base",
            "overflow": null,
            "_model_module_version": "1.2.0",
            "_view_count": null,
            "flex_flow": null,
            "width": null,
            "min_width": null,
            "border": null,
            "align_items": null,
            "bottom": null,
            "_model_module": "@jupyter-widgets/base",
            "top": null,
            "grid_column": null,
            "overflow_y": null,
            "overflow_x": null,
            "grid_auto_flow": null,
            "grid_area": null,
            "grid_template_columns": null,
            "flex": null,
            "_model_name": "LayoutModel",
            "justify_items": null,
            "grid_row": null,
            "max_height": null,
            "align_content": null,
            "visibility": null,
            "align_self": null,
            "height": null,
            "min_height": null,
            "padding": null,
            "grid_auto_rows": null,
            "grid_gap": null,
            "max_width": null,
            "order": null,
            "_view_module_version": "1.2.0",
            "grid_template_areas": null,
            "object_position": null,
            "object_fit": null,
            "grid_auto_columns": null,
            "margin": null,
            "display": null,
            "left": null
          }
        },
        "3aab325c941f427ea03280213a88eecd": {
          "model_module": "@jupyter-widgets/base",
          "model_name": "LayoutModel",
          "model_module_version": "1.2.0",
          "state": {
            "_view_name": "LayoutView",
            "grid_template_rows": null,
            "right": null,
            "justify_content": null,
            "_view_module": "@jupyter-widgets/base",
            "overflow": null,
            "_model_module_version": "1.2.0",
            "_view_count": null,
            "flex_flow": null,
            "width": null,
            "min_width": null,
            "border": null,
            "align_items": null,
            "bottom": null,
            "_model_module": "@jupyter-widgets/base",
            "top": null,
            "grid_column": null,
            "overflow_y": null,
            "overflow_x": null,
            "grid_auto_flow": null,
            "grid_area": null,
            "grid_template_columns": null,
            "flex": null,
            "_model_name": "LayoutModel",
            "justify_items": null,
            "grid_row": null,
            "max_height": null,
            "align_content": null,
            "visibility": null,
            "align_self": null,
            "height": null,
            "min_height": null,
            "padding": null,
            "grid_auto_rows": null,
            "grid_gap": null,
            "max_width": null,
            "order": null,
            "_view_module_version": "1.2.0",
            "grid_template_areas": null,
            "object_position": null,
            "object_fit": null,
            "grid_auto_columns": null,
            "margin": null,
            "display": null,
            "left": null
          }
        }
      }
    }
  },
  "cells": [
    {
      "cell_type": "markdown",
      "metadata": {
        "id": "jWZ-vTQntJX8"
      },
      "source": [
        "# 確率勾配法によるパーセプトロンとロジスティック回帰の実装\n",
        "\n",
        "2次元データの2クラス分類問題を解くパーセプトロンとロジスティック回帰を実装する．\n",
        "ロジスティック回帰は通常はバッチ処理で行うが，ここではサンプルを1つづつ用いる確率勾配法を実装する．\n",
        "\n",
        "# 準備"
      ]
    },
    {
      "cell_type": "code",
      "metadata": {
        "id": "FMDMUVxBtJX_",
        "outputId": "5e4e901a-ef47-48fa-d992-ddf8e4bf7cf9",
        "colab": {
          "base_uri": "https://localhost:8080/",
          "height": 34
        }
      },
      "source": [
        "# load modules\n",
        "\n",
        "import numpy as np\n",
        "\n",
        "import matplotlib\n",
        "import matplotlib.pyplot as plt\n",
        "from matplotlib.pyplot import imshow\n",
        "%matplotlib inline\n",
        "# plt.gray();\n",
        "plt.set_cmap(plt.cm.Paired);\n",
        "\n",
        "import sklearn\n",
        "from sklearn.datasets import make_blobs\n",
        "\n",
        "from ipywidgets import interact, interactive, fixed, RadioButtons\n",
        "import ipywidgets as widgets\n",
        "from IPython.display import display"
      ],
      "execution_count": 23,
      "outputs": [
        {
          "output_type": "display_data",
          "data": {
            "text/plain": [
              "<Figure size 432x288 with 0 Axes>"
            ]
          },
          "metadata": {}
        }
      ]
    },
    {
      "cell_type": "code",
      "metadata": {
        "id": "GZJyx7d5tJYB",
        "outputId": "9aa30106-48b1-41a1-8ad2-02ea2c60bbcc",
        "colab": {
          "base_uri": "https://localhost:8080/"
        }
      },
      "source": [
        "# check versions\n",
        "\n",
        "print(\"sklearn version :\", sklearn.__version__, \" >= 0.18.0\")\n",
        "print(\"numpy version :\", np.__version__, \" >= 0.12.0\")\n",
        "print(\"matplotlib version:\", matplotlib.__version__, \">= 2.0.0\")"
      ],
      "execution_count": 24,
      "outputs": [
        {
          "output_type": "stream",
          "name": "stdout",
          "text": [
            "sklearn version : 0.22.2.post1  >= 0.18.0\n",
            "numpy version : 1.19.5  >= 0.12.0\n",
            "matplotlib version: 3.2.2 >= 2.0.0\n"
          ]
        }
      ]
    },
    {
      "cell_type": "markdown",
      "metadata": {
        "id": "b4acaap3tJYC"
      },
      "source": [
        "# データセットの準備\n",
        "\n",
        "sklearnのmake_blobで2次元データを準備する．\n",
        "返り値は，データXとラベルyである．ただし2クラスの場合，ラベルyは0,1で返ってくるため，-1と+1に変更しておく．"
      ]
    },
    {
      "cell_type": "code",
      "metadata": {
        "id": "eId9jQM9tJYC",
        "outputId": "394aaff9-1cbe-48b8-8a4a-2a9c725578a8",
        "colab": {
          "base_uri": "https://localhost:8080/",
          "height": 265
        }
      },
      "source": [
        "X, y = make_blobs(n_samples=20, # 20個生成\n",
        "                  n_features=2, # 2次元\n",
        "                  centers=2,    # クラスタ中心2個\n",
        "                  cluster_std = 2 # クラスタの大きさ（標準偏差）\n",
        "                 )\n",
        "X = np.hstack((X, np.ones((X.shape[0], 1)))) # 同次座標\n",
        "y = 2*y - 1 # 0,1 -> -1,+1\n",
        "\n",
        "# データの正規化\n",
        "X[:, 0] -= X[:, 0].mean()\n",
        "X[:, 1] -= X[:, 1].mean()\n",
        "X[:, 0] /= X[:, 0].std()\n",
        "X[:, 1] /= X[:, 1].std()\n",
        "\n",
        "plt.scatter(X[:, 0], X[:, 1], c=y, s=50, edgecolors='k');\n",
        "plt.gca().set_aspect('equal');"
      ],
      "execution_count": 25,
      "outputs": [
        {
          "output_type": "display_data",
          "data": {
            "image/png": "[encoded data removed]",
            "text/plain": [
              "<Figure size 432x288 with 1 Axes>"
            ]
          },
          "metadata": {
            "needs_background": "light"
          }
        }
      ]
    },
    {
      "cell_type": "markdown",
      "metadata": {
        "id": "Z93qJ8X4tJYC"
      },
      "source": [
        "識別境界を直線で描くヘルパー関数の準備．"
      ]
    },
    {
      "cell_type": "code",
      "metadata": {
        "id": "Bsa0U5y0tJYD"
      },
      "source": [
        "# 境界線を引く関数の定義\n",
        "\n",
        "def plotBoundary(X, w, mesh=True, boundary=True, n_neighbors=1):\n",
        "\n",
        "    # plot range\n",
        "    x_min = min(X[:,0])\n",
        "    x_max = max(X[:,0])\n",
        "    y_min = min(X[:,1])\n",
        "    y_max = max(X[:,1])\n",
        "\n",
        "    # visualizing decision function\n",
        "    XX, YY = np.mgrid[x_min:x_max:200j, y_min:y_max:200j] # make a grid\n",
        "    Z = np.c_[XX.ravel(), YY.ravel(), np.ones(XX.size)] @ w\n",
        "    \n",
        "    Z = Z.reshape(XX.shape) # just reshape\n",
        "    Z = np.sign(Z) # -1 or +1\n",
        "\n",
        "    if mesh:\n",
        "        plt.pcolormesh(XX, YY, Z, zorder=-10) # paint in 2 colors, if Z > 0 or not\n",
        "\n",
        "    if boundary:\n",
        "        if Z.min() < 0.5 < Z.max():\n",
        "            plt.contour(XX, YY, Z, alpha=0.5,\n",
        "                        colors='k', linestyles='-', levels=[0])\n",
        "\n",
        "    plt.xlim(x_min, x_max)\n",
        "    plt.ylim(y_min, y_max)"
      ],
      "execution_count": 26,
      "outputs": []
    },
    {
      "cell_type": "markdown",
      "metadata": {
        "id": "ZWLI6WJFtJYD"
      },
      "source": [
        "重みの初期値を作成する．"
      ]
    },
    {
      "cell_type": "code",
      "metadata": {
        "id": "7i-HzCbBtJYD"
      },
      "source": [
        "w0 = np.random.rand(3) - 0.5 # 次元＋1：同次座標"
      ],
      "execution_count": 27,
      "outputs": []
    },
    {
      "cell_type": "markdown",
      "metadata": {
        "id": "i-N2kQw9tJYD"
      },
      "source": [
        "# パーセプトロンの実装\n",
        "\n",
        "以下では，サンプルを先頭から順番に一つずつ用いて，パーセプトロンの更新則を適用する．\n",
        "サンプルは青と茶色のクラスに分かれている．識別境界を引いた後に，同じ色の領域に入っていれば正答，違う色の領域に入ってしまっていれば誤答である．誤答の場合にのみパーセプトロンの更新則を適用する．"
      ]
    },
    {
      "cell_type": "code",
      "metadata": {
        "id": "gEu-oLKztJYE"
      },
      "source": [
        "w = w0.copy()"
      ],
      "execution_count": 28,
      "outputs": []
    },
    {
      "cell_type": "code",
      "metadata": {
        "id": "Rwsn5iHftJYE",
        "outputId": "851ae941-a3ca-4831-a3ad-ca2d0ca0373a",
        "colab": {
          "base_uri": "https://localhost:8080/",
          "height": 313,
          "referenced_widgets": [
            "d7619e5699a641ffab164d4631d31583",
            "4d06db6cbf434dd2b78b8937f95c04f3",
            "0a647f71472948309e1c0ef17d178314",
            "36a94d784ef144fea7ecf61b96a67755",
            "5d146745bc8546eab4a90b967c3eeae9",
            "c4102d7f214b4a2fa7f95a47dab6f295",
            "cbb93b4720ba44bba10fdbe2d1390bfc"
          ]
        }
      },
      "source": [
        "val_start = 0 # スライドバーの最小値\n",
        "val_end   = len(y)-1 # スライドバーの最大値\n",
        "val_step  = 1 # スライドバーはこの値ずつ増える\n",
        "val_default = 0 # スライドバーの初期値\n",
        "\n",
        "alpha = 0.05\n",
        "\n",
        "@interact(sample=(val_start, val_end, val_step)) # この行が関数の直前に必要\n",
        "def g(sample=val_default): # この関数を毎回呼び出す    \n",
        "    \n",
        "    global w\n",
        "    \n",
        "    if sample > len(y)-1:\n",
        "        return\n",
        "\n",
        "    plt.scatter(X[:, 0], X[:, 1], marker='o', s=50, c=y, edgecolors='k')\n",
        "    plt.scatter(X[sample, 0], X[sample, 1], marker='o', s=90, facecolors='none', edgecolors='k')\n",
        "   \n",
        "    plotBoundary(X[:, :-1], w)\n",
        "    \n",
        "    xi = X[sample]\n",
        "    yi = y[sample]\n",
        "\n",
        "    plt.title(\"y w x = {0:.2f}\".format((xi @ w) * yi))\n",
        "    \n",
        "    plt.gca().set_aspect('equal');\n",
        "    plt.show()\n",
        "\n",
        "    # パーセプトロンの更新則\n",
        "    if (xi @ w) * yi < 0:\n",
        "        w += alpha * yi * xi\n",
        "\n",
        "    "
      ],
      "execution_count": 32,
      "outputs": [
        {
          "output_type": "display_data",
          "data": {
            "application/vnd.jupyter.widget-view+json": {
              "model_id": "d7619e5699a641ffab164d4631d31583",
              "version_minor": 0,
              "version_major": 2
            },
            "text/plain": [
              "interactive(children=(IntSlider(value=0, description='sample', max=19), Output()), _dom_classes=('widget-inter…"
            ]
          },
          "metadata": {}
        }
      ]
    },
    {
      "cell_type": "markdown",
      "metadata": {
        "id": "ZQqT3UyQtJYE"
      },
      "source": [
        "# ロジスティック回帰の実装"
      ]
    },
    {
      "cell_type": "code",
      "metadata": {
        "id": "e6RritchtJYF"
      },
      "source": [
        "w = w0.copy()"
      ],
      "execution_count": 33,
      "outputs": []
    },
    {
      "cell_type": "code",
      "metadata": {
        "id": "LpFUu14ZtJYF",
        "outputId": "f497b657-60ba-46fe-81df-f42c097d298b",
        "colab": {
          "base_uri": "https://localhost:8080/",
          "height": 313,
          "referenced_widgets": [
            "098c4d6b1dfe41a39c2256050d795bd5",
            "55e5dcafa1a6426fb665090a9224630b",
            "d0df695c5e464d0fb01401e6b9d35c04",
            "211d33272ce34953a14ac171b9ed6bf1",
            "cc7a905102f54e608e306e165b858c09",
            "a4b6cbbf527a49e5b33c35a790276151",
            "3aab325c941f427ea03280213a88eecd"
          ]
        }
      },
      "source": [
        "val_start = 0 # スライドバーの最小値\n",
        "val_end   = len(y)-1 # スライドバーの最大値\n",
        "val_step  = 1 # スライドバーはこの値ずつ増える\n",
        "val_default = 0 # スライドバーの初期値\n",
        "\n",
        "\n",
        "def sig(x):\n",
        "    return 1 / (1 + np.exp(x))\n",
        "\n",
        "alpha = 0.05\n",
        "\n",
        "\n",
        "@interact(sample=(val_start, val_end, val_step)) # この行が関数の直前に必要\n",
        "def g(sample=val_default): # この関数を毎回呼び出す    \n",
        "    \n",
        "    global w\n",
        "    \n",
        "    if sample > len(y)-1:\n",
        "        return\n",
        "\n",
        "    plt.scatter(X[:, 0], X[:, 1], marker='o', s=50, c=y, edgecolors='k')\n",
        "    plt.scatter(X[sample, 0], X[sample, 1], marker='o', s=90, facecolors='none',  edgecolors='k')\n",
        "   \n",
        "    plotBoundary(X[:, :-1], w)\n",
        "  \n",
        "    xi = X[sample]\n",
        "    yi = y[sample]\n",
        "\n",
        "    plt.title(\"y w x = {0:.2f}\".format((xi @ w) * yi))\n",
        "    \n",
        "    plt.gca().set_aspect('equal');\n",
        "    plt.show()\n",
        "\n",
        "    # ロジスティック回帰の更新則（確率勾配）\n",
        "    ai = (xi @ w) * yi\n",
        "    w += alpha * (xi * yi * sig(-ai))\n",
        "    "
      ],
      "execution_count": 34,
      "outputs": [
        {
          "output_type": "display_data",
          "data": {
            "application/vnd.jupyter.widget-view+json": {
              "model_id": "098c4d6b1dfe41a39c2256050d795bd5",
              "version_minor": 0,
              "version_major": 2
            },
            "text/plain": [
              "interactive(children=(IntSlider(value=0, description='sample', max=19), Output()), _dom_classes=('widget-inter…"
            ]
          },
          "metadata": {}
        }
      ]
    },
    {
      "cell_type": "code",
      "metadata": {
        "id": "20FL5rZutJYF"
      },
      "source": [
        ""
      ],
      "execution_count": null,
      "outputs": []
    },
    {
      "cell_type": "markdown",
      "metadata": {
        "id": "ENf7qMlGtJYG"
      },
      "source": [
        "# Task\n",
        "\n",
        "- パーセプトロンとロジスティック回帰の収束の違いを議論する．\n",
        "- 学習率$\\alpha$は0.01から0.001程度にすると境界線の移動の様子がわかりやすい．学習率を小さくしすぎる，もしくは大きくしすぎるとどうなるかを検討する．"
      ]
    },
    {
      "cell_type": "code",
      "metadata": {
        "id": "JRc9mbaWtJYG"
      },
      "source": [
        ""
      ],
      "execution_count": null,
      "outputs": []
    }
  ]
}