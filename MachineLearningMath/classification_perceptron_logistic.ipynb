{
  "nbformat": 4,
  "nbformat_minor": 0,
  "metadata": {
    "kernelspec": {
      "display_name": "Python 3",
      "language": "python",
      "name": "python3"
    },
    "language_info": {
      "codemirror_mode": {
        "name": "ipython",
        "version": 3
      },
      "file_extension": ".py",
      "mimetype": "text/x-python",
      "name": "python",
      "nbconvert_exporter": "python",
      "pygments_lexer": "ipython3",
      "version": "3.7.7"
    },
    "toc": {
      "base_numbering": 1,
      "nav_menu": {},
      "number_sections": true,
      "sideBar": false,
      "skip_h1_title": false,
      "title_cell": "Table of Contents",
      "title_sidebar": "Contents",
      "toc_cell": false,
      "toc_position": {},
      "toc_section_display": true,
      "toc_window_display": false
    },
    "colab": {
      "name": "classification_perceptron_logistic.ipynb",
      "provenance": []
    },
    "widgets": {
      "application/vnd.jupyter.widget-state+json": {
        "cd225b5848a4418ba76368061c8fb183": {
          "model_module": "@jupyter-widgets/controls",
          "model_name": "VBoxModel",
          "model_module_version": "1.5.0",
          "state": {
            "_view_name": "VBoxView",
            "_dom_classes": [
              "widget-interact"
            ],
            "_model_name": "VBoxModel",
            "_view_module": "@jupyter-widgets/controls",
            "_model_module_version": "1.5.0",
            "_view_count": null,
            "_view_module_version": "1.5.0",
            "box_style": "",
            "layout": "IPY_MODEL_2e7c59a338ae4134a265931aa05298e0",
            "_model_module": "@jupyter-widgets/controls",
            "children": [
              "IPY_MODEL_a9afc1d35802403eab8dc6f83f0bf0da",
              "IPY_MODEL_928a5f8239b149de8c159aa81bacbcfd"
            ]
          }
        },
        "2e7c59a338ae4134a265931aa05298e0": {
          "model_module": "@jupyter-widgets/base",
          "model_name": "LayoutModel",
          "model_module_version": "1.2.0",
          "state": {
            "_view_name": "LayoutView",
            "grid_template_rows": null,
            "right": null,
            "justify_content": null,
            "_view_module": "@jupyter-widgets/base",
            "overflow": null,
            "_model_module_version": "1.2.0",
            "_view_count": null,
            "flex_flow": null,
            "width": null,
            "min_width": null,
            "border": null,
            "align_items": null,
            "bottom": null,
            "_model_module": "@jupyter-widgets/base",
            "top": null,
            "grid_column": null,
            "overflow_y": null,
            "overflow_x": null,
            "grid_auto_flow": null,
            "grid_area": null,
            "grid_template_columns": null,
            "flex": null,
            "_model_name": "LayoutModel",
            "justify_items": null,
            "grid_row": null,
            "max_height": null,
            "align_content": null,
            "visibility": null,
            "align_self": null,
            "height": null,
            "min_height": null,
            "padding": null,
            "grid_auto_rows": null,
            "grid_gap": null,
            "max_width": null,
            "order": null,
            "_view_module_version": "1.2.0",
            "grid_template_areas": null,
            "object_position": null,
            "object_fit": null,
            "grid_auto_columns": null,
            "margin": null,
            "display": null,
            "left": null
          }
        },
        "a9afc1d35802403eab8dc6f83f0bf0da": {
          "model_module": "@jupyter-widgets/controls",
          "model_name": "IntSliderModel",
          "model_module_version": "1.5.0",
          "state": {
            "_view_name": "IntSliderView",
            "style": "IPY_MODEL_5d64bf1fd6e74b5484cc916783436736",
            "_dom_classes": [],
            "description": "sample",
            "step": 1,
            "_model_name": "IntSliderModel",
            "orientation": "horizontal",
            "max": 19,
            "_view_module": "@jupyter-widgets/controls",
            "_model_module_version": "1.5.0",
            "value": 14,
            "_view_count": null,
            "disabled": false,
            "_view_module_version": "1.5.0",
            "min": 0,
            "continuous_update": true,
            "readout_format": "d",
            "description_tooltip": null,
            "readout": true,
            "_model_module": "@jupyter-widgets/controls",
            "layout": "IPY_MODEL_21cabb4975c74b6a95e4af8625c4be12"
          }
        },
        "928a5f8239b149de8c159aa81bacbcfd": {
          "model_module": "@jupyter-widgets/output",
          "model_name": "OutputModel",
          "model_module_version": "1.0.0",
          "state": {
            "_view_name": "OutputView",
            "msg_id": "",
            "_dom_classes": [],
            "_model_name": "OutputModel",
            "outputs": [
              {
                "output_type": "display_data",
                "data": {
                  "image/png": "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\n",
                  "text/plain": "<Figure size 432x288 with 1 Axes>"
                },
                "metadata": {
                  "needs_background": "light"
                }
              }
            ],
            "_view_module": "@jupyter-widgets/output",
            "_model_module_version": "1.0.0",
            "_view_count": null,
            "_view_module_version": "1.0.0",
            "layout": "IPY_MODEL_58becf311c12497cbb88413155f44c45",
            "_model_module": "@jupyter-widgets/output"
          }
        },
        "5d64bf1fd6e74b5484cc916783436736": {
          "model_module": "@jupyter-widgets/controls",
          "model_name": "SliderStyleModel",
          "model_module_version": "1.5.0",
          "state": {
            "_view_name": "StyleView",
            "handle_color": null,
            "_model_name": "SliderStyleModel",
            "description_width": "",
            "_view_module": "@jupyter-widgets/base",
            "_model_module_version": "1.5.0",
            "_view_count": null,
            "_view_module_version": "1.2.0",
            "_model_module": "@jupyter-widgets/controls"
          }
        },
        "21cabb4975c74b6a95e4af8625c4be12": {
          "model_module": "@jupyter-widgets/base",
          "model_name": "LayoutModel",
          "model_module_version": "1.2.0",
          "state": {
            "_view_name": "LayoutView",
            "grid_template_rows": null,
            "right": null,
            "justify_content": null,
            "_view_module": "@jupyter-widgets/base",
            "overflow": null,
            "_model_module_version": "1.2.0",
            "_view_count": null,
            "flex_flow": null,
            "width": null,
            "min_width": null,
            "border": null,
            "align_items": null,
            "bottom": null,
            "_model_module": "@jupyter-widgets/base",
            "top": null,
            "grid_column": null,
            "overflow_y": null,
            "overflow_x": null,
            "grid_auto_flow": null,
            "grid_area": null,
            "grid_template_columns": null,
            "flex": null,
            "_model_name": "LayoutModel",
            "justify_items": null,
            "grid_row": null,
            "max_height": null,
            "align_content": null,
            "visibility": null,
            "align_self": null,
            "height": null,
            "min_height": null,
            "padding": null,
            "grid_auto_rows": null,
            "grid_gap": null,
            "max_width": null,
            "order": null,
            "_view_module_version": "1.2.0",
            "grid_template_areas": null,
            "object_position": null,
            "object_fit": null,
            "grid_auto_columns": null,
            "margin": null,
            "display": null,
            "left": null
          }
        },
        "58becf311c12497cbb88413155f44c45": {
          "model_module": "@jupyter-widgets/base",
          "model_name": "LayoutModel",
          "model_module_version": "1.2.0",
          "state": {
            "_view_name": "LayoutView",
            "grid_template_rows": null,
            "right": null,
            "justify_content": null,
            "_view_module": "@jupyter-widgets/base",
            "overflow": null,
            "_model_module_version": "1.2.0",
            "_view_count": null,
            "flex_flow": null,
            "width": null,
            "min_width": null,
            "border": null,
            "align_items": null,
            "bottom": null,
            "_model_module": "@jupyter-widgets/base",
            "top": null,
            "grid_column": null,
            "overflow_y": null,
            "overflow_x": null,
            "grid_auto_flow": null,
            "grid_area": null,
            "grid_template_columns": null,
            "flex": null,
            "_model_name": "LayoutModel",
            "justify_items": null,
            "grid_row": null,
            "max_height": null,
            "align_content": null,
            "visibility": null,
            "align_self": null,
            "height": null,
            "min_height": null,
            "padding": null,
            "grid_auto_rows": null,
            "grid_gap": null,
            "max_width": null,
            "order": null,
            "_view_module_version": "1.2.0",
            "grid_template_areas": null,
            "object_position": null,
            "object_fit": null,
            "grid_auto_columns": null,
            "margin": null,
            "display": null,
            "left": null
          }
        },
        "8c98d3cd3fdb48e7aa247836622af828": {
          "model_module": "@jupyter-widgets/controls",
          "model_name": "VBoxModel",
          "model_module_version": "1.5.0",
          "state": {
            "_view_name": "VBoxView",
            "_dom_classes": [
              "widget-interact"
            ],
            "_model_name": "VBoxModel",
            "_view_module": "@jupyter-widgets/controls",
            "_model_module_version": "1.5.0",
            "_view_count": null,
            "_view_module_version": "1.5.0",
            "box_style": "",
            "layout": "IPY_MODEL_ad65bde1d4ee4d66af1982a67c584b1f",
            "_model_module": "@jupyter-widgets/controls",
            "children": [
              "IPY_MODEL_f0b36656769449d693efcfced2e365de",
              "IPY_MODEL_93dcf8039f2e4cc9b72741d25112b8f1"
            ]
          }
        },
        "ad65bde1d4ee4d66af1982a67c584b1f": {
          "model_module": "@jupyter-widgets/base",
          "model_name": "LayoutModel",
          "model_module_version": "1.2.0",
          "state": {
            "_view_name": "LayoutView",
            "grid_template_rows": null,
            "right": null,
            "justify_content": null,
            "_view_module": "@jupyter-widgets/base",
            "overflow": null,
            "_model_module_version": "1.2.0",
            "_view_count": null,
            "flex_flow": null,
            "width": null,
            "min_width": null,
            "border": null,
            "align_items": null,
            "bottom": null,
            "_model_module": "@jupyter-widgets/base",
            "top": null,
            "grid_column": null,
            "overflow_y": null,
            "overflow_x": null,
            "grid_auto_flow": null,
            "grid_area": null,
            "grid_template_columns": null,
            "flex": null,
            "_model_name": "LayoutModel",
            "justify_items": null,
            "grid_row": null,
            "max_height": null,
            "align_content": null,
            "visibility": null,
            "align_self": null,
            "height": null,
            "min_height": null,
            "padding": null,
            "grid_auto_rows": null,
            "grid_gap": null,
            "max_width": null,
            "order": null,
            "_view_module_version": "1.2.0",
            "grid_template_areas": null,
            "object_position": null,
            "object_fit": null,
            "grid_auto_columns": null,
            "margin": null,
            "display": null,
            "left": null
          }
        },
        "f0b36656769449d693efcfced2e365de": {
          "model_module": "@jupyter-widgets/controls",
          "model_name": "IntSliderModel",
          "model_module_version": "1.5.0",
          "state": {
            "_view_name": "IntSliderView",
            "style": "IPY_MODEL_753e790456464f68bc449537a68d7425",
            "_dom_classes": [],
            "description": "sample",
            "step": 1,
            "_model_name": "IntSliderModel",
            "orientation": "horizontal",
            "max": 19,
            "_view_module": "@jupyter-widgets/controls",
            "_model_module_version": "1.5.0",
            "value": 4,
            "_view_count": null,
            "disabled": false,
            "_view_module_version": "1.5.0",
            "min": 0,
            "continuous_update": true,
            "readout_format": "d",
            "description_tooltip": null,
            "readout": true,
            "_model_module": "@jupyter-widgets/controls",
            "layout": "IPY_MODEL_5325602e6c104253ba23de17aef63136"
          }
        },
        "93dcf8039f2e4cc9b72741d25112b8f1": {
          "model_module": "@jupyter-widgets/output",
          "model_name": "OutputModel",
          "model_module_version": "1.0.0",
          "state": {
            "_view_name": "OutputView",
            "msg_id": "",
            "_dom_classes": [],
            "_model_name": "OutputModel",
            "outputs": [
              {
                "output_type": "display_data",
                "data": {
                  "image/png": "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\n",
                  "text/plain": "<Figure size 432x288 with 1 Axes>"
                },
                "metadata": {
                  "needs_background": "light"
                }
              }
            ],
            "_view_module": "@jupyter-widgets/output",
            "_model_module_version": "1.0.0",
            "_view_count": null,
            "_view_module_version": "1.0.0",
            "layout": "IPY_MODEL_7f0c22b7714f4e3cb3a1ce946e1a6c52",
            "_model_module": "@jupyter-widgets/output"
          }
        },
        "753e790456464f68bc449537a68d7425": {
          "model_module": "@jupyter-widgets/controls",
          "model_name": "SliderStyleModel",
          "model_module_version": "1.5.0",
          "state": {
            "_view_name": "StyleView",
            "handle_color": null,
            "_model_name": "SliderStyleModel",
            "description_width": "",
            "_view_module": "@jupyter-widgets/base",
            "_model_module_version": "1.5.0",
            "_view_count": null,
            "_view_module_version": "1.2.0",
            "_model_module": "@jupyter-widgets/controls"
          }
        },
        "5325602e6c104253ba23de17aef63136": {
          "model_module": "@jupyter-widgets/base",
          "model_name": "LayoutModel",
          "model_module_version": "1.2.0",
          "state": {
            "_view_name": "LayoutView",
            "grid_template_rows": null,
            "right": null,
            "justify_content": null,
            "_view_module": "@jupyter-widgets/base",
            "overflow": null,
            "_model_module_version": "1.2.0",
            "_view_count": null,
            "flex_flow": null,
            "width": null,
            "min_width": null,
            "border": null,
            "align_items": null,
            "bottom": null,
            "_model_module": "@jupyter-widgets/base",
            "top": null,
            "grid_column": null,
            "overflow_y": null,
            "overflow_x": null,
            "grid_auto_flow": null,
            "grid_area": null,
            "grid_template_columns": null,
            "flex": null,
            "_model_name": "LayoutModel",
            "justify_items": null,
            "grid_row": null,
            "max_height": null,
            "align_content": null,
            "visibility": null,
            "align_self": null,
            "height": null,
            "min_height": null,
            "padding": null,
            "grid_auto_rows": null,
            "grid_gap": null,
            "max_width": null,
            "order": null,
            "_view_module_version": "1.2.0",
            "grid_template_areas": null,
            "object_position": null,
            "object_fit": null,
            "grid_auto_columns": null,
            "margin": null,
            "display": null,
            "left": null
          }
        },
        "7f0c22b7714f4e3cb3a1ce946e1a6c52": {
          "model_module": "@jupyter-widgets/base",
          "model_name": "LayoutModel",
          "model_module_version": "1.2.0",
          "state": {
            "_view_name": "LayoutView",
            "grid_template_rows": null,
            "right": null,
            "justify_content": null,
            "_view_module": "@jupyter-widgets/base",
            "overflow": null,
            "_model_module_version": "1.2.0",
            "_view_count": null,
            "flex_flow": null,
            "width": null,
            "min_width": null,
            "border": null,
            "align_items": null,
            "bottom": null,
            "_model_module": "@jupyter-widgets/base",
            "top": null,
            "grid_column": null,
            "overflow_y": null,
            "overflow_x": null,
            "grid_auto_flow": null,
            "grid_area": null,
            "grid_template_columns": null,
            "flex": null,
            "_model_name": "LayoutModel",
            "justify_items": null,
            "grid_row": null,
            "max_height": null,
            "align_content": null,
            "visibility": null,
            "align_self": null,
            "height": null,
            "min_height": null,
            "padding": null,
            "grid_auto_rows": null,
            "grid_gap": null,
            "max_width": null,
            "order": null,
            "_view_module_version": "1.2.0",
            "grid_template_areas": null,
            "object_position": null,
            "object_fit": null,
            "grid_auto_columns": null,
            "margin": null,
            "display": null,
            "left": null
          }
        }
      }
    }
  },
  "cells": [
    {
      "cell_type": "markdown",
      "metadata": {
        "id": "jWZ-vTQntJX8"
      },
      "source": [
        "# 確率勾配法によるパーセプトロンとロジスティック回帰の実装\n",
        "\n",
        "2次元データの2クラス分類問題を解くパーセプトロンとロジスティック回帰を実装する．\n",
        "ロジスティック回帰は通常はバッチ処理で行うが，ここではサンプルを1つづつ用いる確率勾配法を実装する．\n",
        "\n",
        "# 準備"
      ]
    },
    {
      "cell_type": "code",
      "metadata": {
        "id": "FMDMUVxBtJX_",
        "colab": {
          "base_uri": "https://localhost:8080/",
          "height": 32
        },
        "outputId": "c1983f2c-c051-4764-f38d-0d44f37c51ad"
      },
      "source": [
        "# load modules\n",
        "\n",
        "import numpy as np\n",
        "\n",
        "import matplotlib\n",
        "import matplotlib.pyplot as plt\n",
        "from matplotlib.pyplot import imshow\n",
        "%matplotlib inline\n",
        "# plt.gray();\n",
        "plt.set_cmap(plt.cm.Paired);\n",
        "\n",
        "import sklearn\n",
        "from sklearn.datasets import make_blobs\n",
        "\n",
        "from ipywidgets import interact, interactive, fixed, RadioButtons\n",
        "import ipywidgets as widgets\n",
        "from IPython.display import display"
      ],
      "execution_count": 1,
      "outputs": [
        {
          "output_type": "display_data",
          "data": {
            "text/plain": [
              "<Figure size 432x288 with 0 Axes>"
            ]
          },
          "metadata": {}
        }
      ]
    },
    {
      "cell_type": "code",
      "metadata": {
        "id": "GZJyx7d5tJYB",
        "colab": {
          "base_uri": "https://localhost:8080/"
        },
        "outputId": "6e5eaa95-4b51-4e3a-ea42-f6f3bf21aeb2"
      },
      "source": [
        "# check versions\n",
        "\n",
        "print(\"sklearn version :\", sklearn.__version__, \" >= 0.18.0\")\n",
        "print(\"numpy version :\", np.__version__, \" >= 0.12.0\")\n",
        "print(\"matplotlib version:\", matplotlib.__version__, \">= 2.0.0\")"
      ],
      "execution_count": 2,
      "outputs": [
        {
          "output_type": "stream",
          "name": "stdout",
          "text": [
            "sklearn version : 0.22.2.post1  >= 0.18.0\n",
            "numpy version : 1.19.5  >= 0.12.0\n",
            "matplotlib version: 3.2.2 >= 2.0.0\n"
          ]
        }
      ]
    },
    {
      "cell_type": "markdown",
      "metadata": {
        "id": "b4acaap3tJYC"
      },
      "source": [
        "# データセットの準備\n",
        "\n",
        "sklearnのmake_blobで2次元データを準備する．\n",
        "返り値は，データXとラベルyである．ただし2クラスの場合，ラベルyは0,1で返ってくるため，-1と+1に変更しておく．"
      ]
    },
    {
      "cell_type": "code",
      "metadata": {
        "id": "eId9jQM9tJYC",
        "colab": {
          "base_uri": "https://localhost:8080/",
          "height": 264
        },
        "outputId": "060cd79d-6ecf-4189-e89d-b0cf22cfc838"
      },
      "source": [
        "X, y = make_blobs(n_samples=20, # 20個生成\n",
        "                  n_features=2, # 2次元\n",
        "                  centers=2,    # クラスタ中心2個\n",
        "                  cluster_std = 2 # クラスタの大きさ（標準偏差）\n",
        "                 )\n",
        "X = np.hstack((X, np.ones((X.shape[0], 1)))) # 同次座標\n",
        "y = 2*y - 1 # 0,1 -> -1,+1\n",
        "\n",
        "# データの正規化\n",
        "X[:, 0] -= X[:, 0].mean()\n",
        "X[:, 1] -= X[:, 1].mean()\n",
        "X[:, 0] /= X[:, 0].std()\n",
        "X[:, 1] /= X[:, 1].std()\n",
        "\n",
        "plt.scatter(X[:, 0], X[:, 1], c=y, s=50, edgecolors='k');\n",
        "plt.gca().set_aspect('equal');"
      ],
      "execution_count": 3,
      "outputs": [
        {
          "output_type": "display_data",
          "data": {
            "image/png": "[encoded data removed]",
            "text/plain": [
              "<Figure size 432x288 with 1 Axes>"
            ]
          },
          "metadata": {
            "needs_background": "light"
          }
        }
      ]
    },
    {
      "cell_type": "markdown",
      "metadata": {
        "id": "Z93qJ8X4tJYC"
      },
      "source": [
        "識別境界を直線で描くヘルパー関数の準備．"
      ]
    },
    {
      "cell_type": "code",
      "metadata": {
        "id": "Bsa0U5y0tJYD"
      },
      "source": [
        "# 境界線を引く関数の定義\n",
        "\n",
        "def plotBoundary(X, w, mesh=True, boundary=True, n_neighbors=1):\n",
        "\n",
        "    # plot range\n",
        "    x_min = min(X[:,0])\n",
        "    x_max = max(X[:,0])\n",
        "    y_min = min(X[:,1])\n",
        "    y_max = max(X[:,1])\n",
        "\n",
        "    # visualizing decision function\n",
        "    XX, YY = np.mgrid[x_min:x_max:200j, y_min:y_max:200j] # make a grid\n",
        "    Z = np.c_[XX.ravel(), YY.ravel(), np.ones(XX.size)] @ w\n",
        "    \n",
        "    Z = Z.reshape(XX.shape) # just reshape\n",
        "    Z = np.sign(Z) # -1 or +1\n",
        "\n",
        "    if mesh:\n",
        "        plt.pcolormesh(XX, YY, Z, zorder=-10) # paint in 2 colors, if Z > 0 or not\n",
        "\n",
        "    if boundary:\n",
        "        if Z.min() < 0.5 < Z.max():\n",
        "            plt.contour(XX, YY, Z, alpha=0.5,\n",
        "                        colors='k', linestyles='-', levels=[0])\n",
        "\n",
        "    plt.xlim(x_min, x_max)\n",
        "    plt.ylim(y_min, y_max)"
      ],
      "execution_count": 4,
      "outputs": []
    },
    {
      "cell_type": "markdown",
      "metadata": {
        "id": "ZWLI6WJFtJYD"
      },
      "source": [
        "重みの初期値を作成する．"
      ]
    },
    {
      "cell_type": "code",
      "metadata": {
        "id": "7i-HzCbBtJYD"
      },
      "source": [
        "w0 = np.random.rand(3) - 0.5 # 次元＋1：同次座標"
      ],
      "execution_count": 5,
      "outputs": []
    },
    {
      "cell_type": "markdown",
      "metadata": {
        "id": "i-N2kQw9tJYD"
      },
      "source": [
        "# パーセプトロンの実装\n",
        "\n",
        "以下では，サンプルを先頭から順番に一つずつ用いて，パーセプトロンの更新則を適用する．\n",
        "サンプルは青と茶色のクラスに分かれている．識別境界を引いた後に，同じ色の領域に入っていれば正答，違う色の領域に入ってしまっていれば誤答である．誤答の場合にのみパーセプトロンの更新則を適用する．"
      ]
    },
    {
      "cell_type": "code",
      "metadata": {
        "id": "gEu-oLKztJYE"
      },
      "source": [
        "w = w0.copy()"
      ],
      "execution_count": 6,
      "outputs": []
    },
    {
      "cell_type": "code",
      "metadata": {
        "id": "Rwsn5iHftJYE",
        "colab": {
          "base_uri": "https://localhost:8080/",
          "height": 312,
          "referenced_widgets": [
            "cd225b5848a4418ba76368061c8fb183",
            "2e7c59a338ae4134a265931aa05298e0",
            "a9afc1d35802403eab8dc6f83f0bf0da",
            "928a5f8239b149de8c159aa81bacbcfd",
            "5d64bf1fd6e74b5484cc916783436736",
            "21cabb4975c74b6a95e4af8625c4be12",
            "58becf311c12497cbb88413155f44c45"
          ]
        },
        "outputId": "0f889933-941c-4bb3-9e82-c13907bc3ae7"
      },
      "source": [
        "val_start = 0 # スライドバーの最小値\n",
        "val_end   = len(y)-1 # スライドバーの最大値\n",
        "val_step  = 1 # スライドバーはこの値ずつ増える\n",
        "val_default = 0 # スライドバーの初期値\n",
        "\n",
        "alpha = 0.05\n",
        "\n",
        "@interact(sample=(val_start, val_end, val_step)) # この行が関数の直前に必要\n",
        "def g(sample=val_default): # この関数を毎回呼び出す    \n",
        "    \n",
        "    global w\n",
        "    \n",
        "    if sample > len(y)-1:\n",
        "        return\n",
        "\n",
        "    plt.scatter(X[:, 0], X[:, 1], marker='o', s=50, c=y, edgecolors='k')\n",
        "    plt.scatter(X[sample, 0], X[sample, 1], marker='o', s=90, facecolors='none', edgecolors='k')\n",
        "   \n",
        "    plotBoundary(X[:, :-1], w)\n",
        "    \n",
        "    xi = X[sample]\n",
        "    yi = y[sample]\n",
        "\n",
        "    plt.title(\"y w x = {0:.2f}\".format((xi @ w) * yi))\n",
        "    \n",
        "    plt.gca().set_aspect('equal');\n",
        "    plt.show()\n",
        "\n",
        "    # パーセプトロンの更新則\n",
        "    if (xi @ w) * yi < 0:\n",
        "        w += alpha * yi * xi\n",
        "\n",
        "    "
      ],
      "execution_count": 7,
      "outputs": [
        {
          "output_type": "display_data",
          "data": {
            "application/vnd.jupyter.widget-view+json": {
              "model_id": "cd225b5848a4418ba76368061c8fb183",
              "version_minor": 0,
              "version_major": 2
            },
            "text/plain": [
              "interactive(children=(IntSlider(value=0, description='sample', max=19), Output()), _dom_classes=('widget-inter…"
            ]
          },
          "metadata": {}
        }
      ]
    },
    {
      "cell_type": "markdown",
      "metadata": {
        "id": "ZQqT3UyQtJYE"
      },
      "source": [
        "# ロジスティック回帰の実装"
      ]
    },
    {
      "cell_type": "code",
      "metadata": {
        "id": "e6RritchtJYF"
      },
      "source": [
        "w = w0.copy()"
      ],
      "execution_count": 8,
      "outputs": []
    },
    {
      "cell_type": "code",
      "metadata": {
        "id": "LpFUu14ZtJYF",
        "colab": {
          "base_uri": "https://localhost:8080/",
          "height": 312,
          "referenced_widgets": [
            "8c98d3cd3fdb48e7aa247836622af828",
            "ad65bde1d4ee4d66af1982a67c584b1f",
            "f0b36656769449d693efcfced2e365de",
            "93dcf8039f2e4cc9b72741d25112b8f1",
            "753e790456464f68bc449537a68d7425",
            "5325602e6c104253ba23de17aef63136",
            "7f0c22b7714f4e3cb3a1ce946e1a6c52"
          ]
        },
        "outputId": "f33ff169-fbf4-408c-91d9-20ef9e3cb568"
      },
      "source": [
        "val_start = 0 # スライドバーの最小値\n",
        "val_end   = len(y)-1 # スライドバーの最大値\n",
        "val_step  = 1 # スライドバーはこの値ずつ増える\n",
        "val_default = 0 # スライドバーの初期値\n",
        "\n",
        "\n",
        "def sig(x):\n",
        "    return 1 / (1 + np.exp(-x))\n",
        "\n",
        "alpha = 0.05\n",
        "\n",
        "\n",
        "@interact(sample=(val_start, val_end, val_step)) # この行が関数の直前に必要\n",
        "def g(sample=val_default): # この関数を毎回呼び出す    \n",
        "    \n",
        "    global w\n",
        "    \n",
        "    if sample > len(y)-1:\n",
        "        return\n",
        "\n",
        "    plt.scatter(X[:, 0], X[:, 1], marker='o', s=50, c=y, edgecolors='k')\n",
        "    plt.scatter(X[sample, 0], X[sample, 1], marker='o', s=90, facecolors='none',  edgecolors='k')\n",
        "   \n",
        "    plotBoundary(X[:, :-1], w)\n",
        "  \n",
        "    xi = X[sample]\n",
        "    yi = y[sample]\n",
        "\n",
        "    plt.title(\"y w x = {0:.2f}\".format((xi @ w) * yi))\n",
        "    \n",
        "    plt.gca().set_aspect('equal');\n",
        "    plt.show()\n",
        "\n",
        "    # ロジスティック回帰の更新則（確率勾配）\n",
        "    ai = (xi @ w) * yi\n",
        "    w += alpha * (xi * yi * sig(-ai))\n",
        "    "
      ],
      "execution_count": 9,
      "outputs": [
        {
          "output_type": "display_data",
          "data": {
            "application/vnd.jupyter.widget-view+json": {
              "model_id": "8c98d3cd3fdb48e7aa247836622af828",
              "version_minor": 0,
              "version_major": 2
            },
            "text/plain": [
              "interactive(children=(IntSlider(value=0, description='sample', max=19), Output()), _dom_classes=('widget-inter…"
            ]
          },
          "metadata": {}
        }
      ]
    },
    {
      "cell_type": "code",
      "metadata": {
        "id": "20FL5rZutJYF"
      },
      "source": [
        ""
      ],
      "execution_count": null,
      "outputs": []
    },
    {
      "cell_type": "markdown",
      "metadata": {
        "id": "ENf7qMlGtJYG"
      },
      "source": [
        "# Task\n",
        "\n",
        "- パーセプトロンとロジスティック回帰の収束の違いを議論する．\n",
        "- 学習率$\\alpha$は0.1から0.01程度にすると境界線の移動の様子がわかりやすい．学習率を小さくしすぎる，もしくは大きくしすぎるとどうなるかを検討する．"
      ]
    },
    {
      "cell_type": "code",
      "metadata": {
        "id": "JRc9mbaWtJYG"
      },
      "source": [
        ""
      ],
      "execution_count": null,
      "outputs": []
    }
  ]
}